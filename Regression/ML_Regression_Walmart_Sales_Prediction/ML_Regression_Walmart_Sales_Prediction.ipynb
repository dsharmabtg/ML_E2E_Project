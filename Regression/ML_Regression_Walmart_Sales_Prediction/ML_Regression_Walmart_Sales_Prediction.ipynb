{
  "nbformat": 4,
  "nbformat_minor": 0,
  "metadata": {
    "colab": {
      "provenance": []
    },
    "kernelspec": {
      "name": "python3",
      "display_name": "Python 3"
    },
    "language_info": {
      "name": "python"
    }
  },
  "cells": [
    {
      "cell_type": "markdown",
      "source": [
        "# 1. Introduction"
      ],
      "metadata": {
        "id": "aUcY79E-Qbgj"
      }
    },
    {
      "cell_type": "markdown",
      "source": [
        "Sales analysis and forecasting are essential tools for businesses to understand and improve their sales performance and make informed decisions about their future sales goals (B2B International, 2018). By analyzing past sales data, businesses can identify trends and patterns that can help them understand what is driving their sales and where they may need to focus their efforts to improve (Small Business Administration, 2021).\n",
        "\n",
        "Forecasting allows businesses to project future sales based on these trends and patterns, helping them to set realistic goals and allocate resources appropriately (Business News Daily, 2021). The importance of sales analysis and forecasting extends beyond just understanding sales performance. It is also\n",
        "crucial for budgeting and financial planning. By understanding their expected sales, businesses can better plan for expenses and allocate resources to meet their financial goals (Small Business Administration, 2021).\n",
        "\n",
        "Additionally, sales analysis and forecasting can help businesses identify opportunities for growth and new areas for expansion (B2B International, 2018).\n",
        "In this project, we will analyze Walmart's weekly sales data across 45 different stores to gain insights into their sales performance and identify trends and patterns. We will then use this data to forecast future sales, which can assist Walmart in making informed strategic decisions. This analysis will provide Walmart with valuable information on how to optimize their sales and allocate resources effectively. Additionally, by understanding\n",
        "how sales vary across different stores, Walmart can identify areas for improvement and potential opportunities for growth. Overall, this project will enable Walmart to gain a deeper understanding of their sales performance\n",
        "and make data-driven decisions to drive future success."
      ],
      "metadata": {
        "id": "zZjt7A3QQrQp"
      }
    },
    {
      "cell_type": "markdown",
      "source": [
        "## 1.1 Dataset description\n",
        "\n",
        "The dataset consists of Walmart's weekly sales from 2010-02-05 to 2012-11-01. The file has the following columns:\n",
        "\n",
        "\n",
        "*   Store : the store number\n",
        "*   Date : the week of sales\n",
        "*   Weekly_Sales : sales for the given store\n",
        "*   Holiday_Flag : whether the week is a special holiday week 1 – Holiday week 0 – Non-holiday week\n",
        "*   Temperature : Temperature on the day of sale\n",
        "*   Fuel_Price : Cost of fuel in the region\n",
        "*   CPI : Prevailing consumer price index\n",
        "*   Unemployment : Prevailing unemployment rate in percentage\n",
        "\n",
        "**Holiday Events** include:\n",
        "\n",
        "\n",
        "*   Super Bowl: 12-Feb-10, 11-Feb-11, 10-Feb-12, 8-Feb-13\n",
        "*   Labour Day: 10-Sep-10, 9-Sep-11, 7-Sep-12, 6-Sep-13\n",
        "*   Thanksgiving: 26-Nov-10, 25-Nov-11, 23-Nov-12, 29-Nov-13\n",
        "*   Christmas: 31-Dec-10, 30-Dec-11, 28-Dec-12, 27-Dec-13\n",
        "\n",
        "\n",
        "\n",
        "\n",
        "\n"
      ],
      "metadata": {
        "id": "YcUGqSAqRVGj"
      }
    },
    {
      "cell_type": "markdown",
      "source": [
        "## 1.2 Importing dependencies"
      ],
      "metadata": {
        "id": "9ccC7SVhSM5s"
      }
    },
    {
      "cell_type": "markdown",
      "source": [
        "The following packages are essential to running this project successfully: `numpy`, `pandas`, `matplotlib`, `seaborn`, and `sklearn`."
      ],
      "metadata": {
        "id": "h8lYAVs8QYUT"
      }
    },
    {
      "cell_type": "code",
      "source": [
        "# importing data analysis libraries\n",
        "import numpy as np\n",
        "import pandas as pd\n",
        "# importing visualization libraries\n",
        "import matplotlib.pyplot as plt\n",
        "%matplotlib inline\n",
        "import seaborn as sns\n",
        "# overriding matplotlib\n",
        "sns.set()\n",
        "# import datetime\n",
        "import datetime as dt\n",
        "# import the preprocessing classes\n",
        "from sklearn.preprocessing import StandardScaler\n",
        "from sklearn.preprocessing import MinMaxScaler\n",
        "# import train/test split module\n",
        "from sklearn.model_selection import train_test_split\n",
        "# import the regressors\n",
        "from sklearn.linear_model import LinearRegression\n",
        "from sklearn.preprocessing import PolynomialFeatures\n",
        "from sklearn.pipeline import Pipeline\n",
        "from sklearn.linear_model import Ridge\n",
        "from sklearn.linear_model import Lasso\n",
        "from sklearn.linear_model import ElasticNet\n",
        "from sklearn.tree import DecisionTreeRegressor\n",
        "from sklearn.ensemble import RandomForestRegressor\n",
        "from sklearn.ensemble import GradientBoostingRegressor\n",
        "from sklearn.neural_network import MLPRegressor\n",
        "from sklearn.svm import SVR\n",
        "from sklearn.neighbors import KNeighborsRegressor\n",
        "from sklearn.pipeline import make_pipeline\n",
        "# import metrics\n",
        "from sklearn.metrics import mean_squared_error\n",
        "# import warnings\n",
        "import warnings\n",
        "warnings.filterwarnings('ignore')"
      ],
      "metadata": {
        "id": "Nf58cyYPSQmB"
      },
      "execution_count": 1,
      "outputs": []
    },
    {
      "cell_type": "markdown",
      "source": [
        "## 1.3 Loading the dataset"
      ],
      "metadata": {
        "id": "pdTFiZinS7XT"
      }
    },
    {
      "cell_type": "code",
      "source": [
        "# load the dataset\n",
        "sales = pd.read_csv('Walmart.csv')\n",
        "sales.head(3)"
      ],
      "metadata": {
        "colab": {
          "base_uri": "https://localhost:8080/",
          "height": 143
        },
        "id": "B4z2cQ89SzJH",
        "outputId": "414bb325-75e7-4fb4-82f5-48b17b04ca00"
      },
      "execution_count": 5,
      "outputs": [
        {
          "output_type": "execute_result",
          "data": {
            "text/plain": [
              "   Store        Date  Weekly_Sales  Holiday_Flag  Temperature  Fuel_Price  \\\n",
              "0      1  05-02-2010    1643690.90             0        42.31       2.572   \n",
              "1      1  12-02-2010    1641957.44             1        38.51       2.548   \n",
              "2      1  19-02-2010    1611968.17             0        39.93       2.514   \n",
              "\n",
              "          CPI  Unemployment  \n",
              "0  211.096358         8.106  \n",
              "1  211.242170         8.106  \n",
              "2  211.289143         8.106  "
            ],
            "text/html": [
              "\n",
              "  <div id=\"df-4f17266f-b9c9-4888-8ad2-7331708c4148\">\n",
              "    <div class=\"colab-df-container\">\n",
              "      <div>\n",
              "<style scoped>\n",
              "    .dataframe tbody tr th:only-of-type {\n",
              "        vertical-align: middle;\n",
              "    }\n",
              "\n",
              "    .dataframe tbody tr th {\n",
              "        vertical-align: top;\n",
              "    }\n",
              "\n",
              "    .dataframe thead th {\n",
              "        text-align: right;\n",
              "    }\n",
              "</style>\n",
              "<table border=\"1\" class=\"dataframe\">\n",
              "  <thead>\n",
              "    <tr style=\"text-align: right;\">\n",
              "      <th></th>\n",
              "      <th>Store</th>\n",
              "      <th>Date</th>\n",
              "      <th>Weekly_Sales</th>\n",
              "      <th>Holiday_Flag</th>\n",
              "      <th>Temperature</th>\n",
              "      <th>Fuel_Price</th>\n",
              "      <th>CPI</th>\n",
              "      <th>Unemployment</th>\n",
              "    </tr>\n",
              "  </thead>\n",
              "  <tbody>\n",
              "    <tr>\n",
              "      <th>0</th>\n",
              "      <td>1</td>\n",
              "      <td>05-02-2010</td>\n",
              "      <td>1643690.90</td>\n",
              "      <td>0</td>\n",
              "      <td>42.31</td>\n",
              "      <td>2.572</td>\n",
              "      <td>211.096358</td>\n",
              "      <td>8.106</td>\n",
              "    </tr>\n",
              "    <tr>\n",
              "      <th>1</th>\n",
              "      <td>1</td>\n",
              "      <td>12-02-2010</td>\n",
              "      <td>1641957.44</td>\n",
              "      <td>1</td>\n",
              "      <td>38.51</td>\n",
              "      <td>2.548</td>\n",
              "      <td>211.242170</td>\n",
              "      <td>8.106</td>\n",
              "    </tr>\n",
              "    <tr>\n",
              "      <th>2</th>\n",
              "      <td>1</td>\n",
              "      <td>19-02-2010</td>\n",
              "      <td>1611968.17</td>\n",
              "      <td>0</td>\n",
              "      <td>39.93</td>\n",
              "      <td>2.514</td>\n",
              "      <td>211.289143</td>\n",
              "      <td>8.106</td>\n",
              "    </tr>\n",
              "  </tbody>\n",
              "</table>\n",
              "</div>\n",
              "      <button class=\"colab-df-convert\" onclick=\"convertToInteractive('df-4f17266f-b9c9-4888-8ad2-7331708c4148')\"\n",
              "              title=\"Convert this dataframe to an interactive table.\"\n",
              "              style=\"display:none;\">\n",
              "        \n",
              "  <svg xmlns=\"http://www.w3.org/2000/svg\" height=\"24px\"viewBox=\"0 0 24 24\"\n",
              "       width=\"24px\">\n",
              "    <path d=\"M0 0h24v24H0V0z\" fill=\"none\"/>\n",
              "    <path d=\"M18.56 5.44l.94 2.06.94-2.06 2.06-.94-2.06-.94-.94-2.06-.94 2.06-2.06.94zm-11 1L8.5 8.5l.94-2.06 2.06-.94-2.06-.94L8.5 2.5l-.94 2.06-2.06.94zm10 10l.94 2.06.94-2.06 2.06-.94-2.06-.94-.94-2.06-.94 2.06-2.06.94z\"/><path d=\"M17.41 7.96l-1.37-1.37c-.4-.4-.92-.59-1.43-.59-.52 0-1.04.2-1.43.59L10.3 9.45l-7.72 7.72c-.78.78-.78 2.05 0 2.83L4 21.41c.39.39.9.59 1.41.59.51 0 1.02-.2 1.41-.59l7.78-7.78 2.81-2.81c.8-.78.8-2.07 0-2.86zM5.41 20L4 18.59l7.72-7.72 1.47 1.35L5.41 20z\"/>\n",
              "  </svg>\n",
              "      </button>\n",
              "      \n",
              "  <style>\n",
              "    .colab-df-container {\n",
              "      display:flex;\n",
              "      flex-wrap:wrap;\n",
              "      gap: 12px;\n",
              "    }\n",
              "\n",
              "    .colab-df-convert {\n",
              "      background-color: #E8F0FE;\n",
              "      border: none;\n",
              "      border-radius: 50%;\n",
              "      cursor: pointer;\n",
              "      display: none;\n",
              "      fill: #1967D2;\n",
              "      height: 32px;\n",
              "      padding: 0 0 0 0;\n",
              "      width: 32px;\n",
              "    }\n",
              "\n",
              "    .colab-df-convert:hover {\n",
              "      background-color: #E2EBFA;\n",
              "      box-shadow: 0px 1px 2px rgba(60, 64, 67, 0.3), 0px 1px 3px 1px rgba(60, 64, 67, 0.15);\n",
              "      fill: #174EA6;\n",
              "    }\n",
              "\n",
              "    [theme=dark] .colab-df-convert {\n",
              "      background-color: #3B4455;\n",
              "      fill: #D2E3FC;\n",
              "    }\n",
              "\n",
              "    [theme=dark] .colab-df-convert:hover {\n",
              "      background-color: #434B5C;\n",
              "      box-shadow: 0px 1px 3px 1px rgba(0, 0, 0, 0.15);\n",
              "      filter: drop-shadow(0px 1px 2px rgba(0, 0, 0, 0.3));\n",
              "      fill: #FFFFFF;\n",
              "    }\n",
              "  </style>\n",
              "\n",
              "      <script>\n",
              "        const buttonEl =\n",
              "          document.querySelector('#df-4f17266f-b9c9-4888-8ad2-7331708c4148 button.colab-df-convert');\n",
              "        buttonEl.style.display =\n",
              "          google.colab.kernel.accessAllowed ? 'block' : 'none';\n",
              "\n",
              "        async function convertToInteractive(key) {\n",
              "          const element = document.querySelector('#df-4f17266f-b9c9-4888-8ad2-7331708c4148');\n",
              "          const dataTable =\n",
              "            await google.colab.kernel.invokeFunction('convertToInteractive',\n",
              "                                                     [key], {});\n",
              "          if (!dataTable) return;\n",
              "\n",
              "          const docLinkHtml = 'Like what you see? Visit the ' +\n",
              "            '<a target=\"_blank\" href=https://colab.research.google.com/notebooks/data_table.ipynb>data table notebook</a>'\n",
              "            + ' to learn more about interactive tables.';\n",
              "          element.innerHTML = '';\n",
              "          dataTable['output_type'] = 'display_data';\n",
              "          await google.colab.output.renderOutput(dataTable, element);\n",
              "          const docLink = document.createElement('div');\n",
              "          docLink.innerHTML = docLinkHtml;\n",
              "          element.appendChild(docLink);\n",
              "        }\n",
              "      </script>\n",
              "    </div>\n",
              "  </div>\n",
              "  "
            ]
          },
          "metadata": {},
          "execution_count": 5
        }
      ]
    },
    {
      "cell_type": "markdown",
      "source": [
        "# 2. Data Wrangling"
      ],
      "metadata": {
        "id": "e0ZfGWMxTKa0"
      }
    },
    {
      "cell_type": "markdown",
      "source": [
        "In this section, we will identify and address any errors, inconsistencies, missing values, or duplicate entries in the dataset. This will ensure that the dataset is accurate, consistent, and complete, and will make it more suitable for analysis.\n",
        "\n",
        "Thus we will address the following questions to ensure the quality and reliability of the dataset:\n",
        "\n",
        "1.   Are there any missing values in the dataset, and if so, what is their extent and data type?\n",
        "2.   Are there any duplicate entries in the dataset?\n",
        "3.   Are there any outliers in the dataset that may impact the analysis?\n",
        "4.   Does the dataset require any feature engineering to better support the analysis goals?"
      ],
      "metadata": {
        "id": "qZ0aH2SHi8-E"
      }
    },
    {
      "cell_type": "markdown",
      "source": [
        "**1. Are there any missing values in the dataset, and if so, what is their extent and data type?**"
      ],
      "metadata": {
        "id": "fEWSzcQkjNYw"
      }
    },
    {
      "cell_type": "code",
      "source": [
        "# get the concise summary of the dataset\n",
        "sales.info()"
      ],
      "metadata": {
        "colab": {
          "base_uri": "https://localhost:8080/"
        },
        "id": "sK9hgCMzS_9k",
        "outputId": "51dbb411-4d61-450a-86aa-ccea96dce01c"
      },
      "execution_count": 6,
      "outputs": [
        {
          "output_type": "stream",
          "name": "stdout",
          "text": [
            "<class 'pandas.core.frame.DataFrame'>\n",
            "RangeIndex: 6435 entries, 0 to 6434\n",
            "Data columns (total 8 columns):\n",
            " #   Column        Non-Null Count  Dtype  \n",
            "---  ------        --------------  -----  \n",
            " 0   Store         6435 non-null   int64  \n",
            " 1   Date          6435 non-null   object \n",
            " 2   Weekly_Sales  6435 non-null   float64\n",
            " 3   Holiday_Flag  6435 non-null   int64  \n",
            " 4   Temperature   6435 non-null   float64\n",
            " 5   Fuel_Price    6435 non-null   float64\n",
            " 6   CPI           6435 non-null   float64\n",
            " 7   Unemployment  6435 non-null   float64\n",
            "dtypes: float64(5), int64(2), object(1)\n",
            "memory usage: 402.3+ KB\n"
          ]
        }
      ]
    },
    {
      "cell_type": "markdown",
      "source": [
        "We can see that the dataset contains 6435 rows and 8 columns. All of the columns are in the appropriate numeric data types, with the exception of the 'Date' column, which needs to be converted to a datetime type. In addition, the feature names will be converted to lowercase for consistency. This information helps us understand the structure and content of the dataset, and identify any necessary data type conversions or formatting changes."
      ],
      "metadata": {
        "id": "so9K1Q2-jV9T"
      }
    },
    {
      "cell_type": "markdown",
      "source": [
        "*   **Convert *Date* column *data type* to *date-time*.** \n",
        "\n"
      ],
      "metadata": {
        "id": "fIywmCD-jV5c"
      }
    },
    {
      "cell_type": "code",
      "source": [
        "# convert Date column data type to date-time\n",
        "sales['Date'] = pd.to_datetime(sales.Date)"
      ],
      "metadata": {
        "id": "wEUfA0TcTUtG"
      },
      "execution_count": 7,
      "outputs": []
    },
    {
      "cell_type": "code",
      "source": [
        "# check\n",
        "sales.info()"
      ],
      "metadata": {
        "colab": {
          "base_uri": "https://localhost:8080/"
        },
        "id": "_KA36gRTTwtR",
        "outputId": "fd1d0852-fd38-4259-e40e-d4bf94bb77a8"
      },
      "execution_count": 8,
      "outputs": [
        {
          "output_type": "stream",
          "name": "stdout",
          "text": [
            "<class 'pandas.core.frame.DataFrame'>\n",
            "RangeIndex: 6435 entries, 0 to 6434\n",
            "Data columns (total 8 columns):\n",
            " #   Column        Non-Null Count  Dtype         \n",
            "---  ------        --------------  -----         \n",
            " 0   Store         6435 non-null   int64         \n",
            " 1   Date          6435 non-null   datetime64[ns]\n",
            " 2   Weekly_Sales  6435 non-null   float64       \n",
            " 3   Holiday_Flag  6435 non-null   int64         \n",
            " 4   Temperature   6435 non-null   float64       \n",
            " 5   Fuel_Price    6435 non-null   float64       \n",
            " 6   CPI           6435 non-null   float64       \n",
            " 7   Unemployment  6435 non-null   float64       \n",
            "dtypes: datetime64[ns](1), float64(5), int64(2)\n",
            "memory usage: 402.3 KB\n"
          ]
        }
      ]
    },
    {
      "cell_type": "markdown",
      "source": [
        "The Date has been converted to date-time data type."
      ],
      "metadata": {
        "id": "E7pk6X-Jj9jn"
      }
    },
    {
      "cell_type": "markdown",
      "source": [
        "*   **Convert *column names* to *lower case*.**\n",
        "\n"
      ],
      "metadata": {
        "id": "SrVDaU6JkDDM"
      }
    },
    {
      "cell_type": "code",
      "source": [
        "#convert column names to lower case\n",
        "sales.columns = [col.lower() for col in sales.columns ]"
      ],
      "metadata": {
        "id": "RA7C3YU8Ty3B"
      },
      "execution_count": 9,
      "outputs": []
    },
    {
      "cell_type": "code",
      "source": [
        "# check\n",
        "sales.columns"
      ],
      "metadata": {
        "colab": {
          "base_uri": "https://localhost:8080/"
        },
        "id": "0yu7tZWKT3rY",
        "outputId": "ec3436a7-728f-4c4d-ab75-c07b99c64362"
      },
      "execution_count": 10,
      "outputs": [
        {
          "output_type": "execute_result",
          "data": {
            "text/plain": [
              "Index(['store', 'date', 'weekly_sales', 'holiday_flag', 'temperature',\n",
              "       'fuel_price', 'cpi', 'unemployment'],\n",
              "      dtype='object')"
            ]
          },
          "metadata": {},
          "execution_count": 10
        }
      ]
    },
    {
      "cell_type": "markdown",
      "source": [
        "All column names are now in lower case."
      ],
      "metadata": {
        "id": "zFdgoBZlkSne"
      }
    },
    {
      "cell_type": "markdown",
      "source": [
        "**2. Are there any duplicate entries in the dataset?**\n",
        "\n",
        "*   ***Check duplicate entries***\n",
        "\n"
      ],
      "metadata": {
        "id": "qwdpR8dSkVSR"
      }
    },
    {
      "cell_type": "code",
      "source": [
        "# check duplicates\n",
        "sales[sales.duplicated()]"
      ],
      "metadata": {
        "colab": {
          "base_uri": "https://localhost:8080/",
          "height": 49
        },
        "id": "NH1136fIT7Rw",
        "outputId": "d9dbd9f4-f697-492e-ddb3-183abad4aa69"
      },
      "execution_count": 11,
      "outputs": [
        {
          "output_type": "execute_result",
          "data": {
            "text/plain": [
              "Empty DataFrame\n",
              "Columns: [store, date, weekly_sales, holiday_flag, temperature, fuel_price, cpi, unemployment]\n",
              "Index: []"
            ],
            "text/html": [
              "\n",
              "  <div id=\"df-75cf9d7e-71ad-415f-b608-0b9be02493ec\">\n",
              "    <div class=\"colab-df-container\">\n",
              "      <div>\n",
              "<style scoped>\n",
              "    .dataframe tbody tr th:only-of-type {\n",
              "        vertical-align: middle;\n",
              "    }\n",
              "\n",
              "    .dataframe tbody tr th {\n",
              "        vertical-align: top;\n",
              "    }\n",
              "\n",
              "    .dataframe thead th {\n",
              "        text-align: right;\n",
              "    }\n",
              "</style>\n",
              "<table border=\"1\" class=\"dataframe\">\n",
              "  <thead>\n",
              "    <tr style=\"text-align: right;\">\n",
              "      <th></th>\n",
              "      <th>store</th>\n",
              "      <th>date</th>\n",
              "      <th>weekly_sales</th>\n",
              "      <th>holiday_flag</th>\n",
              "      <th>temperature</th>\n",
              "      <th>fuel_price</th>\n",
              "      <th>cpi</th>\n",
              "      <th>unemployment</th>\n",
              "    </tr>\n",
              "  </thead>\n",
              "  <tbody>\n",
              "  </tbody>\n",
              "</table>\n",
              "</div>\n",
              "      <button class=\"colab-df-convert\" onclick=\"convertToInteractive('df-75cf9d7e-71ad-415f-b608-0b9be02493ec')\"\n",
              "              title=\"Convert this dataframe to an interactive table.\"\n",
              "              style=\"display:none;\">\n",
              "        \n",
              "  <svg xmlns=\"http://www.w3.org/2000/svg\" height=\"24px\"viewBox=\"0 0 24 24\"\n",
              "       width=\"24px\">\n",
              "    <path d=\"M0 0h24v24H0V0z\" fill=\"none\"/>\n",
              "    <path d=\"M18.56 5.44l.94 2.06.94-2.06 2.06-.94-2.06-.94-.94-2.06-.94 2.06-2.06.94zm-11 1L8.5 8.5l.94-2.06 2.06-.94-2.06-.94L8.5 2.5l-.94 2.06-2.06.94zm10 10l.94 2.06.94-2.06 2.06-.94-2.06-.94-.94-2.06-.94 2.06-2.06.94z\"/><path d=\"M17.41 7.96l-1.37-1.37c-.4-.4-.92-.59-1.43-.59-.52 0-1.04.2-1.43.59L10.3 9.45l-7.72 7.72c-.78.78-.78 2.05 0 2.83L4 21.41c.39.39.9.59 1.41.59.51 0 1.02-.2 1.41-.59l7.78-7.78 2.81-2.81c.8-.78.8-2.07 0-2.86zM5.41 20L4 18.59l7.72-7.72 1.47 1.35L5.41 20z\"/>\n",
              "  </svg>\n",
              "      </button>\n",
              "      \n",
              "  <style>\n",
              "    .colab-df-container {\n",
              "      display:flex;\n",
              "      flex-wrap:wrap;\n",
              "      gap: 12px;\n",
              "    }\n",
              "\n",
              "    .colab-df-convert {\n",
              "      background-color: #E8F0FE;\n",
              "      border: none;\n",
              "      border-radius: 50%;\n",
              "      cursor: pointer;\n",
              "      display: none;\n",
              "      fill: #1967D2;\n",
              "      height: 32px;\n",
              "      padding: 0 0 0 0;\n",
              "      width: 32px;\n",
              "    }\n",
              "\n",
              "    .colab-df-convert:hover {\n",
              "      background-color: #E2EBFA;\n",
              "      box-shadow: 0px 1px 2px rgba(60, 64, 67, 0.3), 0px 1px 3px 1px rgba(60, 64, 67, 0.15);\n",
              "      fill: #174EA6;\n",
              "    }\n",
              "\n",
              "    [theme=dark] .colab-df-convert {\n",
              "      background-color: #3B4455;\n",
              "      fill: #D2E3FC;\n",
              "    }\n",
              "\n",
              "    [theme=dark] .colab-df-convert:hover {\n",
              "      background-color: #434B5C;\n",
              "      box-shadow: 0px 1px 3px 1px rgba(0, 0, 0, 0.15);\n",
              "      filter: drop-shadow(0px 1px 2px rgba(0, 0, 0, 0.3));\n",
              "      fill: #FFFFFF;\n",
              "    }\n",
              "  </style>\n",
              "\n",
              "      <script>\n",
              "        const buttonEl =\n",
              "          document.querySelector('#df-75cf9d7e-71ad-415f-b608-0b9be02493ec button.colab-df-convert');\n",
              "        buttonEl.style.display =\n",
              "          google.colab.kernel.accessAllowed ? 'block' : 'none';\n",
              "\n",
              "        async function convertToInteractive(key) {\n",
              "          const element = document.querySelector('#df-75cf9d7e-71ad-415f-b608-0b9be02493ec');\n",
              "          const dataTable =\n",
              "            await google.colab.kernel.invokeFunction('convertToInteractive',\n",
              "                                                     [key], {});\n",
              "          if (!dataTable) return;\n",
              "\n",
              "          const docLinkHtml = 'Like what you see? Visit the ' +\n",
              "            '<a target=\"_blank\" href=https://colab.research.google.com/notebooks/data_table.ipynb>data table notebook</a>'\n",
              "            + ' to learn more about interactive tables.';\n",
              "          element.innerHTML = '';\n",
              "          dataTable['output_type'] = 'display_data';\n",
              "          await google.colab.output.renderOutput(dataTable, element);\n",
              "          const docLink = document.createElement('div');\n",
              "          docLink.innerHTML = docLinkHtml;\n",
              "          element.appendChild(docLink);\n",
              "        }\n",
              "      </script>\n",
              "    </div>\n",
              "  </div>\n",
              "  "
            ]
          },
          "metadata": {},
          "execution_count": 11
        }
      ]
    },
    {
      "cell_type": "markdown",
      "source": [
        "The dataset is free from duplicate entires."
      ],
      "metadata": {
        "id": "iDhpb0jck3uM"
      }
    },
    {
      "cell_type": "markdown",
      "source": [
        "**3. Are there any outliers in the dataset that may impact the analysis?**"
      ],
      "metadata": {
        "id": "NkWmLnlPk6tk"
      }
    },
    {
      "cell_type": "markdown",
      "source": [
        "Outliers, or data points that are significantly different from the rest of the data, can affect the accuracy and reliability of statistical measures such as the mean and standard deviation. To ensure that these measures accurately represent the data, it is necessary to identify and properly handle outliers. To address this issue, we will develop two functions: one to detect outliers and another to count them. These functions will help us identify and understand the impact of outliers on our data, and allow us to make informed decisions about how to handle them."
      ],
      "metadata": {
        "id": "tUFM7oVNk-zn"
      }
    },
    {
      "cell_type": "markdown",
      "source": [
        "*   **Create `find_outlier_rows` function**"
      ],
      "metadata": {
        "id": "NCqdkUDhlGIU"
      }
    },
    {
      "cell_type": "code",
      "source": [
        "def find_outlier_rows(df, col, level='both'):\n",
        "  \"\"\"\n",
        "  Finds the rows with outliers in a given column of a dataframe.\n",
        "  This function takes a dataframe and a column as input, and returns the rows\n",
        "  with outliers in the given column. Outliers are identified using the\n",
        "  interquartile range (IQR) formula. The optional level parameter allows the\n",
        "  caller to specify the level of outliers to return, i.e., lower, upper, or both.\n",
        "  Args:\n",
        "  df: The input dataframe.\n",
        "  col: The name of the column to search for outliers.\n",
        "  level: The level of outliers to return, i.e., 'lower', 'upper', or 'both'.\n",
        "  Defaults to 'both'.\n",
        "  Returns:\n",
        "  A dataframe containing the rows with outliers in the given column.\n",
        "  \"\"\"\n",
        "  # compute the interquartile range\n",
        "  iqr = df[col].quantile(0.75) - df[col].quantile(0.25)\n",
        "  # compute the upper and lower bounds for identifying outliers\n",
        "  lower_bound = df[col].quantile(0.25) - 1.5 * iqr\n",
        "  upper_bound = df[col].quantile(0.75) + 1.5 * iqr\n",
        "  # filter the rows based on the level of outliers to return\n",
        "  if level == 'lower':\n",
        "    return df[df[col] < lower_bound]\n",
        "  elif level == 'upper':\n",
        "    return df[df[col] > upper_bound]\n",
        "  else:\n",
        "    return df[(df[col] > upper_bound) | (df[col] < lower_bound)]"
      ],
      "metadata": {
        "id": "Q2K946mrT_L2"
      },
      "execution_count": 12,
      "outputs": []
    },
    {
      "cell_type": "markdown",
      "source": [
        "*   **Create `count_outliers` function**"
      ],
      "metadata": {
        "id": "1KeYggXqlbGs"
      }
    },
    {
      "cell_type": "code",
      "source": [
        "def count_outliers(df):\n",
        "  \"\"\"\n",
        "  This function takes in a DataFrame and returns a DataFrame containing the count and\n",
        "  percentage of outliers in each numeric column of the original DataFrame.\n",
        "  Input:\n",
        "  df: a Pandas DataFrame containing numeric columns\n",
        "  Output:\n",
        "  a Pandas DataFrame containing two columns:\n",
        "  'outlier_counts': the number of outliers in each numeric column\n",
        "  'outlier_percent': the percentage of outliers in each numeric column\n",
        "  \"\"\"\n",
        "  # select numeric columns\n",
        "  df_numeric = df.select_dtypes(include=['int', 'float'])\n",
        "  # get column names\n",
        "  columns = df_numeric.columns\n",
        "  # find the name of all columns with outliers\n",
        "  outlier_cols = [col for col in columns if len(find_outlier_rows(df_numeric, col)) != 0]\n",
        "  # dataframe to store the results\n",
        "  outliers_df = pd.DataFrame(columns=['outlier_counts', 'outlier_percent'])\n",
        "  # count the outliers and compute the percentage of outliers for each column\n",
        "  for col in outlier_cols:\n",
        "    outlier_count = len(find_outlier_rows(df_numeric, col))\n",
        "    all_entries = len(df[col])\n",
        "    outlier_percent = round(outlier_count * 100 / all_entries, 2)\n",
        "    # store the results in the dataframe\n",
        "    outliers_df.loc[col] = [outlier_count, outlier_percent]\n",
        "  # return the resulting dataframe\n",
        "  return outliers_df"
      ],
      "metadata": {
        "id": "pUaEat8dUYwB"
      },
      "execution_count": 14,
      "outputs": []
    },
    {
      "cell_type": "markdown",
      "source": [
        "*  **Count the outliers in the columns of the *`sales`* dataframe**"
      ],
      "metadata": {
        "id": "HK9N-Xdhlnim"
      }
    },
    {
      "cell_type": "code",
      "source": [
        "# count the outliers in sales dataframe\n",
        "count_outliers(sales).sort_values('outlier_counts', ascending=False)"
      ],
      "metadata": {
        "colab": {
          "base_uri": "https://localhost:8080/",
          "height": 175
        },
        "id": "4miMpQxyU1ll",
        "outputId": "308e4bd4-4abe-419d-a2e5-af2f2c0ca84e"
      },
      "execution_count": 15,
      "outputs": [
        {
          "output_type": "execute_result",
          "data": {
            "text/plain": [
              "              outlier_counts  outlier_percent\n",
              "unemployment           481.0             7.47\n",
              "holiday_flag           450.0             6.99\n",
              "weekly_sales            34.0             0.53\n",
              "temperature              3.0             0.05"
            ],
            "text/html": [
              "\n",
              "  <div id=\"df-b16f6ee8-5a6e-4190-8db5-e8eeff443798\">\n",
              "    <div class=\"colab-df-container\">\n",
              "      <div>\n",
              "<style scoped>\n",
              "    .dataframe tbody tr th:only-of-type {\n",
              "        vertical-align: middle;\n",
              "    }\n",
              "\n",
              "    .dataframe tbody tr th {\n",
              "        vertical-align: top;\n",
              "    }\n",
              "\n",
              "    .dataframe thead th {\n",
              "        text-align: right;\n",
              "    }\n",
              "</style>\n",
              "<table border=\"1\" class=\"dataframe\">\n",
              "  <thead>\n",
              "    <tr style=\"text-align: right;\">\n",
              "      <th></th>\n",
              "      <th>outlier_counts</th>\n",
              "      <th>outlier_percent</th>\n",
              "    </tr>\n",
              "  </thead>\n",
              "  <tbody>\n",
              "    <tr>\n",
              "      <th>unemployment</th>\n",
              "      <td>481.0</td>\n",
              "      <td>7.47</td>\n",
              "    </tr>\n",
              "    <tr>\n",
              "      <th>holiday_flag</th>\n",
              "      <td>450.0</td>\n",
              "      <td>6.99</td>\n",
              "    </tr>\n",
              "    <tr>\n",
              "      <th>weekly_sales</th>\n",
              "      <td>34.0</td>\n",
              "      <td>0.53</td>\n",
              "    </tr>\n",
              "    <tr>\n",
              "      <th>temperature</th>\n",
              "      <td>3.0</td>\n",
              "      <td>0.05</td>\n",
              "    </tr>\n",
              "  </tbody>\n",
              "</table>\n",
              "</div>\n",
              "      <button class=\"colab-df-convert\" onclick=\"convertToInteractive('df-b16f6ee8-5a6e-4190-8db5-e8eeff443798')\"\n",
              "              title=\"Convert this dataframe to an interactive table.\"\n",
              "              style=\"display:none;\">\n",
              "        \n",
              "  <svg xmlns=\"http://www.w3.org/2000/svg\" height=\"24px\"viewBox=\"0 0 24 24\"\n",
              "       width=\"24px\">\n",
              "    <path d=\"M0 0h24v24H0V0z\" fill=\"none\"/>\n",
              "    <path d=\"M18.56 5.44l.94 2.06.94-2.06 2.06-.94-2.06-.94-.94-2.06-.94 2.06-2.06.94zm-11 1L8.5 8.5l.94-2.06 2.06-.94-2.06-.94L8.5 2.5l-.94 2.06-2.06.94zm10 10l.94 2.06.94-2.06 2.06-.94-2.06-.94-.94-2.06-.94 2.06-2.06.94z\"/><path d=\"M17.41 7.96l-1.37-1.37c-.4-.4-.92-.59-1.43-.59-.52 0-1.04.2-1.43.59L10.3 9.45l-7.72 7.72c-.78.78-.78 2.05 0 2.83L4 21.41c.39.39.9.59 1.41.59.51 0 1.02-.2 1.41-.59l7.78-7.78 2.81-2.81c.8-.78.8-2.07 0-2.86zM5.41 20L4 18.59l7.72-7.72 1.47 1.35L5.41 20z\"/>\n",
              "  </svg>\n",
              "      </button>\n",
              "      \n",
              "  <style>\n",
              "    .colab-df-container {\n",
              "      display:flex;\n",
              "      flex-wrap:wrap;\n",
              "      gap: 12px;\n",
              "    }\n",
              "\n",
              "    .colab-df-convert {\n",
              "      background-color: #E8F0FE;\n",
              "      border: none;\n",
              "      border-radius: 50%;\n",
              "      cursor: pointer;\n",
              "      display: none;\n",
              "      fill: #1967D2;\n",
              "      height: 32px;\n",
              "      padding: 0 0 0 0;\n",
              "      width: 32px;\n",
              "    }\n",
              "\n",
              "    .colab-df-convert:hover {\n",
              "      background-color: #E2EBFA;\n",
              "      box-shadow: 0px 1px 2px rgba(60, 64, 67, 0.3), 0px 1px 3px 1px rgba(60, 64, 67, 0.15);\n",
              "      fill: #174EA6;\n",
              "    }\n",
              "\n",
              "    [theme=dark] .colab-df-convert {\n",
              "      background-color: #3B4455;\n",
              "      fill: #D2E3FC;\n",
              "    }\n",
              "\n",
              "    [theme=dark] .colab-df-convert:hover {\n",
              "      background-color: #434B5C;\n",
              "      box-shadow: 0px 1px 3px 1px rgba(0, 0, 0, 0.15);\n",
              "      filter: drop-shadow(0px 1px 2px rgba(0, 0, 0, 0.3));\n",
              "      fill: #FFFFFF;\n",
              "    }\n",
              "  </style>\n",
              "\n",
              "      <script>\n",
              "        const buttonEl =\n",
              "          document.querySelector('#df-b16f6ee8-5a6e-4190-8db5-e8eeff443798 button.colab-df-convert');\n",
              "        buttonEl.style.display =\n",
              "          google.colab.kernel.accessAllowed ? 'block' : 'none';\n",
              "\n",
              "        async function convertToInteractive(key) {\n",
              "          const element = document.querySelector('#df-b16f6ee8-5a6e-4190-8db5-e8eeff443798');\n",
              "          const dataTable =\n",
              "            await google.colab.kernel.invokeFunction('convertToInteractive',\n",
              "                                                     [key], {});\n",
              "          if (!dataTable) return;\n",
              "\n",
              "          const docLinkHtml = 'Like what you see? Visit the ' +\n",
              "            '<a target=\"_blank\" href=https://colab.research.google.com/notebooks/data_table.ipynb>data table notebook</a>'\n",
              "            + ' to learn more about interactive tables.';\n",
              "          element.innerHTML = '';\n",
              "          dataTable['output_type'] = 'display_data';\n",
              "          await google.colab.output.renderOutput(dataTable, element);\n",
              "          const docLink = document.createElement('div');\n",
              "          docLink.innerHTML = docLinkHtml;\n",
              "          element.appendChild(docLink);\n",
              "        }\n",
              "      </script>\n",
              "    </div>\n",
              "  </div>\n",
              "  "
            ]
          },
          "metadata": {},
          "execution_count": 15
        }
      ]
    },
    {
      "cell_type": "markdown",
      "source": [
        "The above dataframe shows that **weekly_sales, holiday_flag, temperature and unemployment** columns all have outliers with **unemployment** having the largest outlier percentage, 7%. Let’s examine the outliers in each column to decide on how to handle them.\n",
        "\n",
        "Examine the **unemployment** outliers."
      ],
      "metadata": {
        "id": "7YMQEYw5l4t-"
      }
    },
    {
      "cell_type": "code",
      "source": [
        "# view the summary statistics of unemployment rate\n",
        "find_outlier_rows(sales, 'unemployment')['unemployment'].describe()"
      ],
      "metadata": {
        "colab": {
          "base_uri": "https://localhost:8080/"
        },
        "id": "OJo8umsOVjNG",
        "outputId": "7e79919a-ba72-44ab-9954-f1a581c18053"
      },
      "execution_count": 16,
      "outputs": [
        {
          "output_type": "execute_result",
          "data": {
            "text/plain": [
              "count    481.000000\n",
              "mean      11.447480\n",
              "std        3.891387\n",
              "min        3.879000\n",
              "25%       11.627000\n",
              "50%       13.503000\n",
              "75%       14.021000\n",
              "max       14.313000\n",
              "Name: unemployment, dtype: float64"
            ]
          },
          "metadata": {},
          "execution_count": 16
        }
      ]
    },
    {
      "cell_type": "markdown",
      "source": [
        "The minimum and maximum values of these outliers are 3.89% and 14.31% respectively. Majority, greater or equal to 75%, are more than or equal to 11.6% These values are obtainable in reality and will be left intact for\n",
        "the analysis. Thus, median, which rubust to outliers, will be used to measure the centre of the unemployment rate distribution"
      ],
      "metadata": {
        "id": "c3VnHdzpmKgt"
      }
    },
    {
      "cell_type": "markdown",
      "source": [
        "Examine the **holiday_flag** outliers"
      ],
      "metadata": {
        "id": "iiYfUkIDmN3d"
      }
    },
    {
      "cell_type": "code",
      "source": [
        "find_outlier_rows(sales, 'holiday_flag')['holiday_flag'].describe()"
      ],
      "metadata": {
        "colab": {
          "base_uri": "https://localhost:8080/"
        },
        "id": "ER2FiDFCVpnv",
        "outputId": "3ef80052-e07a-436c-bcaa-d7bb56c298d7"
      },
      "execution_count": 17,
      "outputs": [
        {
          "output_type": "execute_result",
          "data": {
            "text/plain": [
              "count    450.0\n",
              "mean       1.0\n",
              "std        0.0\n",
              "min        1.0\n",
              "25%        1.0\n",
              "50%        1.0\n",
              "75%        1.0\n",
              "max        1.0\n",
              "Name: holiday_flag, dtype: float64"
            ]
          },
          "metadata": {},
          "execution_count": 17
        }
      ]
    },
    {
      "cell_type": "markdown",
      "source": [
        "We can see that all special holiday weeks form the outliers. This is as a result of the fact that most of the weeks, 93%, are non-special holiday weeks. This will also be left intact."
      ],
      "metadata": {
        "id": "teJ1I3PgmZXN"
      }
    },
    {
      "cell_type": "markdown",
      "source": [
        "Examine the **weekly_sales** outliers"
      ],
      "metadata": {
        "id": "t4JZzujOmdIx"
      }
    },
    {
      "cell_type": "code",
      "source": [
        "# find the outliers in weekly sales\n",
        "find_outlier_rows(sales, 'weekly_sales')"
      ],
      "metadata": {
        "colab": {
          "base_uri": "https://localhost:8080/",
          "height": 1000
        },
        "id": "Y9V1kba7Vsq7",
        "outputId": "3f5ac9fd-22fb-4d9e-df1e-7f703bd17c60"
      },
      "execution_count": 19,
      "outputs": [
        {
          "output_type": "execute_result",
          "data": {
            "text/plain": [
              "      store       date  weekly_sales  holiday_flag  temperature  fuel_price  \\\n",
              "189       2 2010-12-24    3436007.68             0        49.97       2.886   \n",
              "241       2 2011-12-23    3224369.80             0        46.66       3.112   \n",
              "471       4 2010-11-26    2789469.45             1        48.08       2.752   \n",
              "474       4 2010-12-17    2740057.14             0        46.57       2.884   \n",
              "475       4 2010-12-24    3526713.39             0        43.21       2.887   \n",
              "523       4 2011-11-25    3004702.33             1        47.96       3.225   \n",
              "526       4 2011-12-16    2771397.17             0        36.44       3.149   \n",
              "527       4 2011-12-23    3676388.98             0        35.92       3.103   \n",
              "761       6 2010-12-24    2727575.18             0        55.07       2.886   \n",
              "1329     10 2010-11-26    2939946.38             1        55.33       3.162   \n",
              "1332     10 2010-12-17    2811646.85             0        59.15       3.125   \n",
              "1333     10 2010-12-24    3749057.69             0        57.06       3.236   \n",
              "1381     10 2011-11-25    2950198.64             1        60.68       3.760   \n",
              "1385     10 2011-12-23    3487986.89             0        48.36       3.541   \n",
              "1758     13 2010-11-26    2766400.05             1        28.22       2.830   \n",
              "1761     13 2010-12-17    2771646.81             0        35.21       2.842   \n",
              "1762     13 2010-12-24    3595903.20             0        34.90       2.846   \n",
              "1810     13 2011-11-25    2864170.61             1        38.89       3.445   \n",
              "1813     13 2011-12-16    2760346.71             0        27.85       3.282   \n",
              "1814     13 2011-12-23    3556766.03             0        24.76       3.186   \n",
              "1901     14 2010-11-26    2921709.71             1        46.15       3.039   \n",
              "1904     14 2010-12-17    2762861.41             0        30.51       3.140   \n",
              "1905     14 2010-12-24    3818686.45             0        30.59       3.141   \n",
              "1957     14 2011-12-23    3369068.99             0        42.27       3.389   \n",
              "2759     20 2010-11-26    2811634.04             1        46.66       3.039   \n",
              "2761     20 2010-10-12    2752122.08             0        24.27       3.109   \n",
              "2762     20 2010-12-17    2819193.17             0        24.07       3.140   \n",
              "2763     20 2010-12-24    3766687.43             0        25.17       3.141   \n",
              "2811     20 2011-11-25    2906233.25             1        46.38       3.492   \n",
              "2814     20 2011-12-16    2762816.65             0        37.16       3.413   \n",
              "2815     20 2011-12-23    3555371.03             0        40.19       3.389   \n",
              "3192     23 2010-12-24    2734277.10             0        22.96       3.150   \n",
              "3764     27 2010-12-24    3078162.08             0        31.34       3.309   \n",
              "3816     27 2011-12-23    2739019.75             0        41.59       3.587   \n",
              "\n",
              "             cpi  unemployment  \n",
              "189   211.064660         8.163  \n",
              "241   218.999550         7.441  \n",
              "471   126.669267         7.127  \n",
              "474   126.879484         7.127  \n",
              "475   126.983581         7.127  \n",
              "523   129.836400         5.143  \n",
              "526   129.898065         5.143  \n",
              "527   129.984548         5.143  \n",
              "761   212.916508         7.007  \n",
              "1329  126.669267         9.003  \n",
              "1332  126.879484         9.003  \n",
              "1333  126.983581         9.003  \n",
              "1381  129.836400         7.874  \n",
              "1385  129.984548         7.874  \n",
              "1758  126.669267         7.795  \n",
              "1761  126.879484         7.795  \n",
              "1762  126.983581         7.795  \n",
              "1810  129.836400         6.392  \n",
              "1813  129.898065         6.392  \n",
              "1814  129.984548         6.392  \n",
              "1901  182.783277         8.724  \n",
              "1904  182.517732         8.724  \n",
              "1905  182.544590         8.724  \n",
              "1957  188.929975         8.523  \n",
              "2759  204.962100         7.484  \n",
              "2761  204.687738         7.484  \n",
              "2762  204.632119         7.484  \n",
              "2763  204.637673         7.484  \n",
              "2811  211.412076         7.082  \n",
              "2814  212.068504         7.082  \n",
              "2815  212.236040         7.082  \n",
              "3192  132.747742         5.287  \n",
              "3764  136.597273         8.021  \n",
              "3816  140.528765         7.906  "
            ],
            "text/html": [
              "\n",
              "  <div id=\"df-3f66945b-15f2-409e-b61f-7f5d9cc90396\">\n",
              "    <div class=\"colab-df-container\">\n",
              "      <div>\n",
              "<style scoped>\n",
              "    .dataframe tbody tr th:only-of-type {\n",
              "        vertical-align: middle;\n",
              "    }\n",
              "\n",
              "    .dataframe tbody tr th {\n",
              "        vertical-align: top;\n",
              "    }\n",
              "\n",
              "    .dataframe thead th {\n",
              "        text-align: right;\n",
              "    }\n",
              "</style>\n",
              "<table border=\"1\" class=\"dataframe\">\n",
              "  <thead>\n",
              "    <tr style=\"text-align: right;\">\n",
              "      <th></th>\n",
              "      <th>store</th>\n",
              "      <th>date</th>\n",
              "      <th>weekly_sales</th>\n",
              "      <th>holiday_flag</th>\n",
              "      <th>temperature</th>\n",
              "      <th>fuel_price</th>\n",
              "      <th>cpi</th>\n",
              "      <th>unemployment</th>\n",
              "    </tr>\n",
              "  </thead>\n",
              "  <tbody>\n",
              "    <tr>\n",
              "      <th>189</th>\n",
              "      <td>2</td>\n",
              "      <td>2010-12-24</td>\n",
              "      <td>3436007.68</td>\n",
              "      <td>0</td>\n",
              "      <td>49.97</td>\n",
              "      <td>2.886</td>\n",
              "      <td>211.064660</td>\n",
              "      <td>8.163</td>\n",
              "    </tr>\n",
              "    <tr>\n",
              "      <th>241</th>\n",
              "      <td>2</td>\n",
              "      <td>2011-12-23</td>\n",
              "      <td>3224369.80</td>\n",
              "      <td>0</td>\n",
              "      <td>46.66</td>\n",
              "      <td>3.112</td>\n",
              "      <td>218.999550</td>\n",
              "      <td>7.441</td>\n",
              "    </tr>\n",
              "    <tr>\n",
              "      <th>471</th>\n",
              "      <td>4</td>\n",
              "      <td>2010-11-26</td>\n",
              "      <td>2789469.45</td>\n",
              "      <td>1</td>\n",
              "      <td>48.08</td>\n",
              "      <td>2.752</td>\n",
              "      <td>126.669267</td>\n",
              "      <td>7.127</td>\n",
              "    </tr>\n",
              "    <tr>\n",
              "      <th>474</th>\n",
              "      <td>4</td>\n",
              "      <td>2010-12-17</td>\n",
              "      <td>2740057.14</td>\n",
              "      <td>0</td>\n",
              "      <td>46.57</td>\n",
              "      <td>2.884</td>\n",
              "      <td>126.879484</td>\n",
              "      <td>7.127</td>\n",
              "    </tr>\n",
              "    <tr>\n",
              "      <th>475</th>\n",
              "      <td>4</td>\n",
              "      <td>2010-12-24</td>\n",
              "      <td>3526713.39</td>\n",
              "      <td>0</td>\n",
              "      <td>43.21</td>\n",
              "      <td>2.887</td>\n",
              "      <td>126.983581</td>\n",
              "      <td>7.127</td>\n",
              "    </tr>\n",
              "    <tr>\n",
              "      <th>523</th>\n",
              "      <td>4</td>\n",
              "      <td>2011-11-25</td>\n",
              "      <td>3004702.33</td>\n",
              "      <td>1</td>\n",
              "      <td>47.96</td>\n",
              "      <td>3.225</td>\n",
              "      <td>129.836400</td>\n",
              "      <td>5.143</td>\n",
              "    </tr>\n",
              "    <tr>\n",
              "      <th>526</th>\n",
              "      <td>4</td>\n",
              "      <td>2011-12-16</td>\n",
              "      <td>2771397.17</td>\n",
              "      <td>0</td>\n",
              "      <td>36.44</td>\n",
              "      <td>3.149</td>\n",
              "      <td>129.898065</td>\n",
              "      <td>5.143</td>\n",
              "    </tr>\n",
              "    <tr>\n",
              "      <th>527</th>\n",
              "      <td>4</td>\n",
              "      <td>2011-12-23</td>\n",
              "      <td>3676388.98</td>\n",
              "      <td>0</td>\n",
              "      <td>35.92</td>\n",
              "      <td>3.103</td>\n",
              "      <td>129.984548</td>\n",
              "      <td>5.143</td>\n",
              "    </tr>\n",
              "    <tr>\n",
              "      <th>761</th>\n",
              "      <td>6</td>\n",
              "      <td>2010-12-24</td>\n",
              "      <td>2727575.18</td>\n",
              "      <td>0</td>\n",
              "      <td>55.07</td>\n",
              "      <td>2.886</td>\n",
              "      <td>212.916508</td>\n",
              "      <td>7.007</td>\n",
              "    </tr>\n",
              "    <tr>\n",
              "      <th>1329</th>\n",
              "      <td>10</td>\n",
              "      <td>2010-11-26</td>\n",
              "      <td>2939946.38</td>\n",
              "      <td>1</td>\n",
              "      <td>55.33</td>\n",
              "      <td>3.162</td>\n",
              "      <td>126.669267</td>\n",
              "      <td>9.003</td>\n",
              "    </tr>\n",
              "    <tr>\n",
              "      <th>1332</th>\n",
              "      <td>10</td>\n",
              "      <td>2010-12-17</td>\n",
              "      <td>2811646.85</td>\n",
              "      <td>0</td>\n",
              "      <td>59.15</td>\n",
              "      <td>3.125</td>\n",
              "      <td>126.879484</td>\n",
              "      <td>9.003</td>\n",
              "    </tr>\n",
              "    <tr>\n",
              "      <th>1333</th>\n",
              "      <td>10</td>\n",
              "      <td>2010-12-24</td>\n",
              "      <td>3749057.69</td>\n",
              "      <td>0</td>\n",
              "      <td>57.06</td>\n",
              "      <td>3.236</td>\n",
              "      <td>126.983581</td>\n",
              "      <td>9.003</td>\n",
              "    </tr>\n",
              "    <tr>\n",
              "      <th>1381</th>\n",
              "      <td>10</td>\n",
              "      <td>2011-11-25</td>\n",
              "      <td>2950198.64</td>\n",
              "      <td>1</td>\n",
              "      <td>60.68</td>\n",
              "      <td>3.760</td>\n",
              "      <td>129.836400</td>\n",
              "      <td>7.874</td>\n",
              "    </tr>\n",
              "    <tr>\n",
              "      <th>1385</th>\n",
              "      <td>10</td>\n",
              "      <td>2011-12-23</td>\n",
              "      <td>3487986.89</td>\n",
              "      <td>0</td>\n",
              "      <td>48.36</td>\n",
              "      <td>3.541</td>\n",
              "      <td>129.984548</td>\n",
              "      <td>7.874</td>\n",
              "    </tr>\n",
              "    <tr>\n",
              "      <th>1758</th>\n",
              "      <td>13</td>\n",
              "      <td>2010-11-26</td>\n",
              "      <td>2766400.05</td>\n",
              "      <td>1</td>\n",
              "      <td>28.22</td>\n",
              "      <td>2.830</td>\n",
              "      <td>126.669267</td>\n",
              "      <td>7.795</td>\n",
              "    </tr>\n",
              "    <tr>\n",
              "      <th>1761</th>\n",
              "      <td>13</td>\n",
              "      <td>2010-12-17</td>\n",
              "      <td>2771646.81</td>\n",
              "      <td>0</td>\n",
              "      <td>35.21</td>\n",
              "      <td>2.842</td>\n",
              "      <td>126.879484</td>\n",
              "      <td>7.795</td>\n",
              "    </tr>\n",
              "    <tr>\n",
              "      <th>1762</th>\n",
              "      <td>13</td>\n",
              "      <td>2010-12-24</td>\n",
              "      <td>3595903.20</td>\n",
              "      <td>0</td>\n",
              "      <td>34.90</td>\n",
              "      <td>2.846</td>\n",
              "      <td>126.983581</td>\n",
              "      <td>7.795</td>\n",
              "    </tr>\n",
              "    <tr>\n",
              "      <th>1810</th>\n",
              "      <td>13</td>\n",
              "      <td>2011-11-25</td>\n",
              "      <td>2864170.61</td>\n",
              "      <td>1</td>\n",
              "      <td>38.89</td>\n",
              "      <td>3.445</td>\n",
              "      <td>129.836400</td>\n",
              "      <td>6.392</td>\n",
              "    </tr>\n",
              "    <tr>\n",
              "      <th>1813</th>\n",
              "      <td>13</td>\n",
              "      <td>2011-12-16</td>\n",
              "      <td>2760346.71</td>\n",
              "      <td>0</td>\n",
              "      <td>27.85</td>\n",
              "      <td>3.282</td>\n",
              "      <td>129.898065</td>\n",
              "      <td>6.392</td>\n",
              "    </tr>\n",
              "    <tr>\n",
              "      <th>1814</th>\n",
              "      <td>13</td>\n",
              "      <td>2011-12-23</td>\n",
              "      <td>3556766.03</td>\n",
              "      <td>0</td>\n",
              "      <td>24.76</td>\n",
              "      <td>3.186</td>\n",
              "      <td>129.984548</td>\n",
              "      <td>6.392</td>\n",
              "    </tr>\n",
              "    <tr>\n",
              "      <th>1901</th>\n",
              "      <td>14</td>\n",
              "      <td>2010-11-26</td>\n",
              "      <td>2921709.71</td>\n",
              "      <td>1</td>\n",
              "      <td>46.15</td>\n",
              "      <td>3.039</td>\n",
              "      <td>182.783277</td>\n",
              "      <td>8.724</td>\n",
              "    </tr>\n",
              "    <tr>\n",
              "      <th>1904</th>\n",
              "      <td>14</td>\n",
              "      <td>2010-12-17</td>\n",
              "      <td>2762861.41</td>\n",
              "      <td>0</td>\n",
              "      <td>30.51</td>\n",
              "      <td>3.140</td>\n",
              "      <td>182.517732</td>\n",
              "      <td>8.724</td>\n",
              "    </tr>\n",
              "    <tr>\n",
              "      <th>1905</th>\n",
              "      <td>14</td>\n",
              "      <td>2010-12-24</td>\n",
              "      <td>3818686.45</td>\n",
              "      <td>0</td>\n",
              "      <td>30.59</td>\n",
              "      <td>3.141</td>\n",
              "      <td>182.544590</td>\n",
              "      <td>8.724</td>\n",
              "    </tr>\n",
              "    <tr>\n",
              "      <th>1957</th>\n",
              "      <td>14</td>\n",
              "      <td>2011-12-23</td>\n",
              "      <td>3369068.99</td>\n",
              "      <td>0</td>\n",
              "      <td>42.27</td>\n",
              "      <td>3.389</td>\n",
              "      <td>188.929975</td>\n",
              "      <td>8.523</td>\n",
              "    </tr>\n",
              "    <tr>\n",
              "      <th>2759</th>\n",
              "      <td>20</td>\n",
              "      <td>2010-11-26</td>\n",
              "      <td>2811634.04</td>\n",
              "      <td>1</td>\n",
              "      <td>46.66</td>\n",
              "      <td>3.039</td>\n",
              "      <td>204.962100</td>\n",
              "      <td>7.484</td>\n",
              "    </tr>\n",
              "    <tr>\n",
              "      <th>2761</th>\n",
              "      <td>20</td>\n",
              "      <td>2010-10-12</td>\n",
              "      <td>2752122.08</td>\n",
              "      <td>0</td>\n",
              "      <td>24.27</td>\n",
              "      <td>3.109</td>\n",
              "      <td>204.687738</td>\n",
              "      <td>7.484</td>\n",
              "    </tr>\n",
              "    <tr>\n",
              "      <th>2762</th>\n",
              "      <td>20</td>\n",
              "      <td>2010-12-17</td>\n",
              "      <td>2819193.17</td>\n",
              "      <td>0</td>\n",
              "      <td>24.07</td>\n",
              "      <td>3.140</td>\n",
              "      <td>204.632119</td>\n",
              "      <td>7.484</td>\n",
              "    </tr>\n",
              "    <tr>\n",
              "      <th>2763</th>\n",
              "      <td>20</td>\n",
              "      <td>2010-12-24</td>\n",
              "      <td>3766687.43</td>\n",
              "      <td>0</td>\n",
              "      <td>25.17</td>\n",
              "      <td>3.141</td>\n",
              "      <td>204.637673</td>\n",
              "      <td>7.484</td>\n",
              "    </tr>\n",
              "    <tr>\n",
              "      <th>2811</th>\n",
              "      <td>20</td>\n",
              "      <td>2011-11-25</td>\n",
              "      <td>2906233.25</td>\n",
              "      <td>1</td>\n",
              "      <td>46.38</td>\n",
              "      <td>3.492</td>\n",
              "      <td>211.412076</td>\n",
              "      <td>7.082</td>\n",
              "    </tr>\n",
              "    <tr>\n",
              "      <th>2814</th>\n",
              "      <td>20</td>\n",
              "      <td>2011-12-16</td>\n",
              "      <td>2762816.65</td>\n",
              "      <td>0</td>\n",
              "      <td>37.16</td>\n",
              "      <td>3.413</td>\n",
              "      <td>212.068504</td>\n",
              "      <td>7.082</td>\n",
              "    </tr>\n",
              "    <tr>\n",
              "      <th>2815</th>\n",
              "      <td>20</td>\n",
              "      <td>2011-12-23</td>\n",
              "      <td>3555371.03</td>\n",
              "      <td>0</td>\n",
              "      <td>40.19</td>\n",
              "      <td>3.389</td>\n",
              "      <td>212.236040</td>\n",
              "      <td>7.082</td>\n",
              "    </tr>\n",
              "    <tr>\n",
              "      <th>3192</th>\n",
              "      <td>23</td>\n",
              "      <td>2010-12-24</td>\n",
              "      <td>2734277.10</td>\n",
              "      <td>0</td>\n",
              "      <td>22.96</td>\n",
              "      <td>3.150</td>\n",
              "      <td>132.747742</td>\n",
              "      <td>5.287</td>\n",
              "    </tr>\n",
              "    <tr>\n",
              "      <th>3764</th>\n",
              "      <td>27</td>\n",
              "      <td>2010-12-24</td>\n",
              "      <td>3078162.08</td>\n",
              "      <td>0</td>\n",
              "      <td>31.34</td>\n",
              "      <td>3.309</td>\n",
              "      <td>136.597273</td>\n",
              "      <td>8.021</td>\n",
              "    </tr>\n",
              "    <tr>\n",
              "      <th>3816</th>\n",
              "      <td>27</td>\n",
              "      <td>2011-12-23</td>\n",
              "      <td>2739019.75</td>\n",
              "      <td>0</td>\n",
              "      <td>41.59</td>\n",
              "      <td>3.587</td>\n",
              "      <td>140.528765</td>\n",
              "      <td>7.906</td>\n",
              "    </tr>\n",
              "  </tbody>\n",
              "</table>\n",
              "</div>\n",
              "      <button class=\"colab-df-convert\" onclick=\"convertToInteractive('df-3f66945b-15f2-409e-b61f-7f5d9cc90396')\"\n",
              "              title=\"Convert this dataframe to an interactive table.\"\n",
              "              style=\"display:none;\">\n",
              "        \n",
              "  <svg xmlns=\"http://www.w3.org/2000/svg\" height=\"24px\"viewBox=\"0 0 24 24\"\n",
              "       width=\"24px\">\n",
              "    <path d=\"M0 0h24v24H0V0z\" fill=\"none\"/>\n",
              "    <path d=\"M18.56 5.44l.94 2.06.94-2.06 2.06-.94-2.06-.94-.94-2.06-.94 2.06-2.06.94zm-11 1L8.5 8.5l.94-2.06 2.06-.94-2.06-.94L8.5 2.5l-.94 2.06-2.06.94zm10 10l.94 2.06.94-2.06 2.06-.94-2.06-.94-.94-2.06-.94 2.06-2.06.94z\"/><path d=\"M17.41 7.96l-1.37-1.37c-.4-.4-.92-.59-1.43-.59-.52 0-1.04.2-1.43.59L10.3 9.45l-7.72 7.72c-.78.78-.78 2.05 0 2.83L4 21.41c.39.39.9.59 1.41.59.51 0 1.02-.2 1.41-.59l7.78-7.78 2.81-2.81c.8-.78.8-2.07 0-2.86zM5.41 20L4 18.59l7.72-7.72 1.47 1.35L5.41 20z\"/>\n",
              "  </svg>\n",
              "      </button>\n",
              "      \n",
              "  <style>\n",
              "    .colab-df-container {\n",
              "      display:flex;\n",
              "      flex-wrap:wrap;\n",
              "      gap: 12px;\n",
              "    }\n",
              "\n",
              "    .colab-df-convert {\n",
              "      background-color: #E8F0FE;\n",
              "      border: none;\n",
              "      border-radius: 50%;\n",
              "      cursor: pointer;\n",
              "      display: none;\n",
              "      fill: #1967D2;\n",
              "      height: 32px;\n",
              "      padding: 0 0 0 0;\n",
              "      width: 32px;\n",
              "    }\n",
              "\n",
              "    .colab-df-convert:hover {\n",
              "      background-color: #E2EBFA;\n",
              "      box-shadow: 0px 1px 2px rgba(60, 64, 67, 0.3), 0px 1px 3px 1px rgba(60, 64, 67, 0.15);\n",
              "      fill: #174EA6;\n",
              "    }\n",
              "\n",
              "    [theme=dark] .colab-df-convert {\n",
              "      background-color: #3B4455;\n",
              "      fill: #D2E3FC;\n",
              "    }\n",
              "\n",
              "    [theme=dark] .colab-df-convert:hover {\n",
              "      background-color: #434B5C;\n",
              "      box-shadow: 0px 1px 3px 1px rgba(0, 0, 0, 0.15);\n",
              "      filter: drop-shadow(0px 1px 2px rgba(0, 0, 0, 0.3));\n",
              "      fill: #FFFFFF;\n",
              "    }\n",
              "  </style>\n",
              "\n",
              "      <script>\n",
              "        const buttonEl =\n",
              "          document.querySelector('#df-3f66945b-15f2-409e-b61f-7f5d9cc90396 button.colab-df-convert');\n",
              "        buttonEl.style.display =\n",
              "          google.colab.kernel.accessAllowed ? 'block' : 'none';\n",
              "\n",
              "        async function convertToInteractive(key) {\n",
              "          const element = document.querySelector('#df-3f66945b-15f2-409e-b61f-7f5d9cc90396');\n",
              "          const dataTable =\n",
              "            await google.colab.kernel.invokeFunction('convertToInteractive',\n",
              "                                                     [key], {});\n",
              "          if (!dataTable) return;\n",
              "\n",
              "          const docLinkHtml = 'Like what you see? Visit the ' +\n",
              "            '<a target=\"_blank\" href=https://colab.research.google.com/notebooks/data_table.ipynb>data table notebook</a>'\n",
              "            + ' to learn more about interactive tables.';\n",
              "          element.innerHTML = '';\n",
              "          dataTable['output_type'] = 'display_data';\n",
              "          await google.colab.output.renderOutput(dataTable, element);\n",
              "          const docLink = document.createElement('div');\n",
              "          docLink.innerHTML = docLinkHtml;\n",
              "          element.appendChild(docLink);\n",
              "        }\n",
              "      </script>\n",
              "    </div>\n",
              "  </div>\n",
              "  "
            ]
          },
          "metadata": {},
          "execution_count": 19
        }
      ]
    },
    {
      "cell_type": "markdown",
      "source": [
        "We can note that all the weekly_sales outliers occur either in November or December with one outlier of the outliers that occur in October."
      ],
      "metadata": {
        "id": "V2SGbKxOmmsd"
      }
    },
    {
      "cell_type": "markdown",
      "source": [
        "**4. Does the dataset require any feature engineering to better support the analysis goals?**"
      ],
      "metadata": {
        "id": "FR7_Aefsmo-m"
      }
    },
    {
      "cell_type": "markdown",
      "source": [
        "Employment rate may be correlated with weekly sales. This will be created from the `unemployment` rate. Also the `date` column will be split into three so that we can analyse the data by `year`, `month` or `day`."
      ],
      "metadata": {
        "id": "k86mE-yHmvc2"
      }
    },
    {
      "cell_type": "code",
      "source": [
        "# calculate the employment rate\n",
        "sales['employment'] = 100 - sales['unemployment']\n",
        "# split the date column\n",
        "sales['year']= sales['date'].dt.year\n",
        "sales['month'] = sales['date'].dt.month\n",
        "sales['day'] = sales['date'].dt.day\n",
        "sales.head(3)"
      ],
      "metadata": {
        "colab": {
          "base_uri": "https://localhost:8080/",
          "height": 143
        },
        "id": "JoJrPnz2V3lg",
        "outputId": "fbf1e79d-3741-4dd7-f37b-1c80726ef74e"
      },
      "execution_count": 20,
      "outputs": [
        {
          "output_type": "execute_result",
          "data": {
            "text/plain": [
              "   store       date  weekly_sales  holiday_flag  temperature  fuel_price  \\\n",
              "0      1 2010-05-02    1643690.90             0        42.31       2.572   \n",
              "1      1 2010-12-02    1641957.44             1        38.51       2.548   \n",
              "2      1 2010-02-19    1611968.17             0        39.93       2.514   \n",
              "\n",
              "          cpi  unemployment  employment  year  month  day  \n",
              "0  211.096358         8.106      91.894  2010      5    2  \n",
              "1  211.242170         8.106      91.894  2010     12    2  \n",
              "2  211.289143         8.106      91.894  2010      2   19  "
            ],
            "text/html": [
              "\n",
              "  <div id=\"df-f239d46a-a97c-4fb6-9485-d032a2da89e0\">\n",
              "    <div class=\"colab-df-container\">\n",
              "      <div>\n",
              "<style scoped>\n",
              "    .dataframe tbody tr th:only-of-type {\n",
              "        vertical-align: middle;\n",
              "    }\n",
              "\n",
              "    .dataframe tbody tr th {\n",
              "        vertical-align: top;\n",
              "    }\n",
              "\n",
              "    .dataframe thead th {\n",
              "        text-align: right;\n",
              "    }\n",
              "</style>\n",
              "<table border=\"1\" class=\"dataframe\">\n",
              "  <thead>\n",
              "    <tr style=\"text-align: right;\">\n",
              "      <th></th>\n",
              "      <th>store</th>\n",
              "      <th>date</th>\n",
              "      <th>weekly_sales</th>\n",
              "      <th>holiday_flag</th>\n",
              "      <th>temperature</th>\n",
              "      <th>fuel_price</th>\n",
              "      <th>cpi</th>\n",
              "      <th>unemployment</th>\n",
              "      <th>employment</th>\n",
              "      <th>year</th>\n",
              "      <th>month</th>\n",
              "      <th>day</th>\n",
              "    </tr>\n",
              "  </thead>\n",
              "  <tbody>\n",
              "    <tr>\n",
              "      <th>0</th>\n",
              "      <td>1</td>\n",
              "      <td>2010-05-02</td>\n",
              "      <td>1643690.90</td>\n",
              "      <td>0</td>\n",
              "      <td>42.31</td>\n",
              "      <td>2.572</td>\n",
              "      <td>211.096358</td>\n",
              "      <td>8.106</td>\n",
              "      <td>91.894</td>\n",
              "      <td>2010</td>\n",
              "      <td>5</td>\n",
              "      <td>2</td>\n",
              "    </tr>\n",
              "    <tr>\n",
              "      <th>1</th>\n",
              "      <td>1</td>\n",
              "      <td>2010-12-02</td>\n",
              "      <td>1641957.44</td>\n",
              "      <td>1</td>\n",
              "      <td>38.51</td>\n",
              "      <td>2.548</td>\n",
              "      <td>211.242170</td>\n",
              "      <td>8.106</td>\n",
              "      <td>91.894</td>\n",
              "      <td>2010</td>\n",
              "      <td>12</td>\n",
              "      <td>2</td>\n",
              "    </tr>\n",
              "    <tr>\n",
              "      <th>2</th>\n",
              "      <td>1</td>\n",
              "      <td>2010-02-19</td>\n",
              "      <td>1611968.17</td>\n",
              "      <td>0</td>\n",
              "      <td>39.93</td>\n",
              "      <td>2.514</td>\n",
              "      <td>211.289143</td>\n",
              "      <td>8.106</td>\n",
              "      <td>91.894</td>\n",
              "      <td>2010</td>\n",
              "      <td>2</td>\n",
              "      <td>19</td>\n",
              "    </tr>\n",
              "  </tbody>\n",
              "</table>\n",
              "</div>\n",
              "      <button class=\"colab-df-convert\" onclick=\"convertToInteractive('df-f239d46a-a97c-4fb6-9485-d032a2da89e0')\"\n",
              "              title=\"Convert this dataframe to an interactive table.\"\n",
              "              style=\"display:none;\">\n",
              "        \n",
              "  <svg xmlns=\"http://www.w3.org/2000/svg\" height=\"24px\"viewBox=\"0 0 24 24\"\n",
              "       width=\"24px\">\n",
              "    <path d=\"M0 0h24v24H0V0z\" fill=\"none\"/>\n",
              "    <path d=\"M18.56 5.44l.94 2.06.94-2.06 2.06-.94-2.06-.94-.94-2.06-.94 2.06-2.06.94zm-11 1L8.5 8.5l.94-2.06 2.06-.94-2.06-.94L8.5 2.5l-.94 2.06-2.06.94zm10 10l.94 2.06.94-2.06 2.06-.94-2.06-.94-.94-2.06-.94 2.06-2.06.94z\"/><path d=\"M17.41 7.96l-1.37-1.37c-.4-.4-.92-.59-1.43-.59-.52 0-1.04.2-1.43.59L10.3 9.45l-7.72 7.72c-.78.78-.78 2.05 0 2.83L4 21.41c.39.39.9.59 1.41.59.51 0 1.02-.2 1.41-.59l7.78-7.78 2.81-2.81c.8-.78.8-2.07 0-2.86zM5.41 20L4 18.59l7.72-7.72 1.47 1.35L5.41 20z\"/>\n",
              "  </svg>\n",
              "      </button>\n",
              "      \n",
              "  <style>\n",
              "    .colab-df-container {\n",
              "      display:flex;\n",
              "      flex-wrap:wrap;\n",
              "      gap: 12px;\n",
              "    }\n",
              "\n",
              "    .colab-df-convert {\n",
              "      background-color: #E8F0FE;\n",
              "      border: none;\n",
              "      border-radius: 50%;\n",
              "      cursor: pointer;\n",
              "      display: none;\n",
              "      fill: #1967D2;\n",
              "      height: 32px;\n",
              "      padding: 0 0 0 0;\n",
              "      width: 32px;\n",
              "    }\n",
              "\n",
              "    .colab-df-convert:hover {\n",
              "      background-color: #E2EBFA;\n",
              "      box-shadow: 0px 1px 2px rgba(60, 64, 67, 0.3), 0px 1px 3px 1px rgba(60, 64, 67, 0.15);\n",
              "      fill: #174EA6;\n",
              "    }\n",
              "\n",
              "    [theme=dark] .colab-df-convert {\n",
              "      background-color: #3B4455;\n",
              "      fill: #D2E3FC;\n",
              "    }\n",
              "\n",
              "    [theme=dark] .colab-df-convert:hover {\n",
              "      background-color: #434B5C;\n",
              "      box-shadow: 0px 1px 3px 1px rgba(0, 0, 0, 0.15);\n",
              "      filter: drop-shadow(0px 1px 2px rgba(0, 0, 0, 0.3));\n",
              "      fill: #FFFFFF;\n",
              "    }\n",
              "  </style>\n",
              "\n",
              "      <script>\n",
              "        const buttonEl =\n",
              "          document.querySelector('#df-f239d46a-a97c-4fb6-9485-d032a2da89e0 button.colab-df-convert');\n",
              "        buttonEl.style.display =\n",
              "          google.colab.kernel.accessAllowed ? 'block' : 'none';\n",
              "\n",
              "        async function convertToInteractive(key) {\n",
              "          const element = document.querySelector('#df-f239d46a-a97c-4fb6-9485-d032a2da89e0');\n",
              "          const dataTable =\n",
              "            await google.colab.kernel.invokeFunction('convertToInteractive',\n",
              "                                                     [key], {});\n",
              "          if (!dataTable) return;\n",
              "\n",
              "          const docLinkHtml = 'Like what you see? Visit the ' +\n",
              "            '<a target=\"_blank\" href=https://colab.research.google.com/notebooks/data_table.ipynb>data table notebook</a>'\n",
              "            + ' to learn more about interactive tables.';\n",
              "          element.innerHTML = '';\n",
              "          dataTable['output_type'] = 'display_data';\n",
              "          await google.colab.output.renderOutput(dataTable, element);\n",
              "          const docLink = document.createElement('div');\n",
              "          docLink.innerHTML = docLinkHtml;\n",
              "          element.appendChild(docLink);\n",
              "        }\n",
              "      </script>\n",
              "    </div>\n",
              "  </div>\n",
              "  "
            ]
          },
          "metadata": {},
          "execution_count": 20
        }
      ]
    },
    {
      "cell_type": "markdown",
      "source": [
        "# 3. Exploratory Data Analysis"
      ],
      "metadata": {
        "id": "z8Kwrv9nXT8I"
      }
    },
    {
      "cell_type": "markdown",
      "source": [
        "This section explores the dataset in order to extract useful information."
      ],
      "metadata": {
        "id": "uZht2RdjnCNE"
      }
    },
    {
      "cell_type": "markdown",
      "source": [
        "**1. What are the summary statistics of the dataset?**"
      ],
      "metadata": {
        "id": "ebQAjE5LnFQU"
      }
    },
    {
      "cell_type": "code",
      "source": [
        "# get the summary statistics of the datset\n",
        "sales.describe()"
      ],
      "metadata": {
        "colab": {
          "base_uri": "https://localhost:8080/",
          "height": 300
        },
        "id": "70MiXIhmXJ5d",
        "outputId": "c51343aa-2eeb-47cd-878b-2bd92ef8e511"
      },
      "execution_count": 22,
      "outputs": [
        {
          "output_type": "execute_result",
          "data": {
            "text/plain": [
              "             store  weekly_sales  holiday_flag  temperature   fuel_price  \\\n",
              "count  6435.000000  6.435000e+03   6435.000000  6435.000000  6435.000000   \n",
              "mean     23.000000  1.046965e+06      0.069930    60.663782     3.358607   \n",
              "std      12.988182  5.643666e+05      0.255049    18.444933     0.459020   \n",
              "min       1.000000  2.099862e+05      0.000000    -2.060000     2.472000   \n",
              "25%      12.000000  5.533501e+05      0.000000    47.460000     2.933000   \n",
              "50%      23.000000  9.607460e+05      0.000000    62.670000     3.445000   \n",
              "75%      34.000000  1.420159e+06      0.000000    74.940000     3.735000   \n",
              "max      45.000000  3.818686e+06      1.000000   100.140000     4.468000   \n",
              "\n",
              "               cpi  unemployment   employment         year        month  \\\n",
              "count  6435.000000   6435.000000  6435.000000  6435.000000  6435.000000   \n",
              "mean    171.578394      7.999151    92.000849  2010.965035     6.475524   \n",
              "std      39.356712      1.875885     1.875885     0.797019     3.321797   \n",
              "min     126.064000      3.879000    85.687000  2010.000000     1.000000   \n",
              "25%     131.735000      6.891000    91.378000  2010.000000     4.000000   \n",
              "50%     182.616521      7.874000    92.126000  2011.000000     6.000000   \n",
              "75%     212.743293      8.622000    93.109000  2012.000000     9.000000   \n",
              "max     227.232807     14.313000    96.121000  2012.000000    12.000000   \n",
              "\n",
              "               day  \n",
              "count  6435.000000  \n",
              "mean     15.650350  \n",
              "std       8.753908  \n",
              "min       1.000000  \n",
              "25%       8.000000  \n",
              "50%      16.000000  \n",
              "75%      23.000000  \n",
              "max      31.000000  "
            ],
            "text/html": [
              "\n",
              "  <div id=\"df-a80a9baa-2e67-43fc-a8f7-ab2d8d798b72\">\n",
              "    <div class=\"colab-df-container\">\n",
              "      <div>\n",
              "<style scoped>\n",
              "    .dataframe tbody tr th:only-of-type {\n",
              "        vertical-align: middle;\n",
              "    }\n",
              "\n",
              "    .dataframe tbody tr th {\n",
              "        vertical-align: top;\n",
              "    }\n",
              "\n",
              "    .dataframe thead th {\n",
              "        text-align: right;\n",
              "    }\n",
              "</style>\n",
              "<table border=\"1\" class=\"dataframe\">\n",
              "  <thead>\n",
              "    <tr style=\"text-align: right;\">\n",
              "      <th></th>\n",
              "      <th>store</th>\n",
              "      <th>weekly_sales</th>\n",
              "      <th>holiday_flag</th>\n",
              "      <th>temperature</th>\n",
              "      <th>fuel_price</th>\n",
              "      <th>cpi</th>\n",
              "      <th>unemployment</th>\n",
              "      <th>employment</th>\n",
              "      <th>year</th>\n",
              "      <th>month</th>\n",
              "      <th>day</th>\n",
              "    </tr>\n",
              "  </thead>\n",
              "  <tbody>\n",
              "    <tr>\n",
              "      <th>count</th>\n",
              "      <td>6435.000000</td>\n",
              "      <td>6.435000e+03</td>\n",
              "      <td>6435.000000</td>\n",
              "      <td>6435.000000</td>\n",
              "      <td>6435.000000</td>\n",
              "      <td>6435.000000</td>\n",
              "      <td>6435.000000</td>\n",
              "      <td>6435.000000</td>\n",
              "      <td>6435.000000</td>\n",
              "      <td>6435.000000</td>\n",
              "      <td>6435.000000</td>\n",
              "    </tr>\n",
              "    <tr>\n",
              "      <th>mean</th>\n",
              "      <td>23.000000</td>\n",
              "      <td>1.046965e+06</td>\n",
              "      <td>0.069930</td>\n",
              "      <td>60.663782</td>\n",
              "      <td>3.358607</td>\n",
              "      <td>171.578394</td>\n",
              "      <td>7.999151</td>\n",
              "      <td>92.000849</td>\n",
              "      <td>2010.965035</td>\n",
              "      <td>6.475524</td>\n",
              "      <td>15.650350</td>\n",
              "    </tr>\n",
              "    <tr>\n",
              "      <th>std</th>\n",
              "      <td>12.988182</td>\n",
              "      <td>5.643666e+05</td>\n",
              "      <td>0.255049</td>\n",
              "      <td>18.444933</td>\n",
              "      <td>0.459020</td>\n",
              "      <td>39.356712</td>\n",
              "      <td>1.875885</td>\n",
              "      <td>1.875885</td>\n",
              "      <td>0.797019</td>\n",
              "      <td>3.321797</td>\n",
              "      <td>8.753908</td>\n",
              "    </tr>\n",
              "    <tr>\n",
              "      <th>min</th>\n",
              "      <td>1.000000</td>\n",
              "      <td>2.099862e+05</td>\n",
              "      <td>0.000000</td>\n",
              "      <td>-2.060000</td>\n",
              "      <td>2.472000</td>\n",
              "      <td>126.064000</td>\n",
              "      <td>3.879000</td>\n",
              "      <td>85.687000</td>\n",
              "      <td>2010.000000</td>\n",
              "      <td>1.000000</td>\n",
              "      <td>1.000000</td>\n",
              "    </tr>\n",
              "    <tr>\n",
              "      <th>25%</th>\n",
              "      <td>12.000000</td>\n",
              "      <td>5.533501e+05</td>\n",
              "      <td>0.000000</td>\n",
              "      <td>47.460000</td>\n",
              "      <td>2.933000</td>\n",
              "      <td>131.735000</td>\n",
              "      <td>6.891000</td>\n",
              "      <td>91.378000</td>\n",
              "      <td>2010.000000</td>\n",
              "      <td>4.000000</td>\n",
              "      <td>8.000000</td>\n",
              "    </tr>\n",
              "    <tr>\n",
              "      <th>50%</th>\n",
              "      <td>23.000000</td>\n",
              "      <td>9.607460e+05</td>\n",
              "      <td>0.000000</td>\n",
              "      <td>62.670000</td>\n",
              "      <td>3.445000</td>\n",
              "      <td>182.616521</td>\n",
              "      <td>7.874000</td>\n",
              "      <td>92.126000</td>\n",
              "      <td>2011.000000</td>\n",
              "      <td>6.000000</td>\n",
              "      <td>16.000000</td>\n",
              "    </tr>\n",
              "    <tr>\n",
              "      <th>75%</th>\n",
              "      <td>34.000000</td>\n",
              "      <td>1.420159e+06</td>\n",
              "      <td>0.000000</td>\n",
              "      <td>74.940000</td>\n",
              "      <td>3.735000</td>\n",
              "      <td>212.743293</td>\n",
              "      <td>8.622000</td>\n",
              "      <td>93.109000</td>\n",
              "      <td>2012.000000</td>\n",
              "      <td>9.000000</td>\n",
              "      <td>23.000000</td>\n",
              "    </tr>\n",
              "    <tr>\n",
              "      <th>max</th>\n",
              "      <td>45.000000</td>\n",
              "      <td>3.818686e+06</td>\n",
              "      <td>1.000000</td>\n",
              "      <td>100.140000</td>\n",
              "      <td>4.468000</td>\n",
              "      <td>227.232807</td>\n",
              "      <td>14.313000</td>\n",
              "      <td>96.121000</td>\n",
              "      <td>2012.000000</td>\n",
              "      <td>12.000000</td>\n",
              "      <td>31.000000</td>\n",
              "    </tr>\n",
              "  </tbody>\n",
              "</table>\n",
              "</div>\n",
              "      <button class=\"colab-df-convert\" onclick=\"convertToInteractive('df-a80a9baa-2e67-43fc-a8f7-ab2d8d798b72')\"\n",
              "              title=\"Convert this dataframe to an interactive table.\"\n",
              "              style=\"display:none;\">\n",
              "        \n",
              "  <svg xmlns=\"http://www.w3.org/2000/svg\" height=\"24px\"viewBox=\"0 0 24 24\"\n",
              "       width=\"24px\">\n",
              "    <path d=\"M0 0h24v24H0V0z\" fill=\"none\"/>\n",
              "    <path d=\"M18.56 5.44l.94 2.06.94-2.06 2.06-.94-2.06-.94-.94-2.06-.94 2.06-2.06.94zm-11 1L8.5 8.5l.94-2.06 2.06-.94-2.06-.94L8.5 2.5l-.94 2.06-2.06.94zm10 10l.94 2.06.94-2.06 2.06-.94-2.06-.94-.94-2.06-.94 2.06-2.06.94z\"/><path d=\"M17.41 7.96l-1.37-1.37c-.4-.4-.92-.59-1.43-.59-.52 0-1.04.2-1.43.59L10.3 9.45l-7.72 7.72c-.78.78-.78 2.05 0 2.83L4 21.41c.39.39.9.59 1.41.59.51 0 1.02-.2 1.41-.59l7.78-7.78 2.81-2.81c.8-.78.8-2.07 0-2.86zM5.41 20L4 18.59l7.72-7.72 1.47 1.35L5.41 20z\"/>\n",
              "  </svg>\n",
              "      </button>\n",
              "      \n",
              "  <style>\n",
              "    .colab-df-container {\n",
              "      display:flex;\n",
              "      flex-wrap:wrap;\n",
              "      gap: 12px;\n",
              "    }\n",
              "\n",
              "    .colab-df-convert {\n",
              "      background-color: #E8F0FE;\n",
              "      border: none;\n",
              "      border-radius: 50%;\n",
              "      cursor: pointer;\n",
              "      display: none;\n",
              "      fill: #1967D2;\n",
              "      height: 32px;\n",
              "      padding: 0 0 0 0;\n",
              "      width: 32px;\n",
              "    }\n",
              "\n",
              "    .colab-df-convert:hover {\n",
              "      background-color: #E2EBFA;\n",
              "      box-shadow: 0px 1px 2px rgba(60, 64, 67, 0.3), 0px 1px 3px 1px rgba(60, 64, 67, 0.15);\n",
              "      fill: #174EA6;\n",
              "    }\n",
              "\n",
              "    [theme=dark] .colab-df-convert {\n",
              "      background-color: #3B4455;\n",
              "      fill: #D2E3FC;\n",
              "    }\n",
              "\n",
              "    [theme=dark] .colab-df-convert:hover {\n",
              "      background-color: #434B5C;\n",
              "      box-shadow: 0px 1px 3px 1px rgba(0, 0, 0, 0.15);\n",
              "      filter: drop-shadow(0px 1px 2px rgba(0, 0, 0, 0.3));\n",
              "      fill: #FFFFFF;\n",
              "    }\n",
              "  </style>\n",
              "\n",
              "      <script>\n",
              "        const buttonEl =\n",
              "          document.querySelector('#df-a80a9baa-2e67-43fc-a8f7-ab2d8d798b72 button.colab-df-convert');\n",
              "        buttonEl.style.display =\n",
              "          google.colab.kernel.accessAllowed ? 'block' : 'none';\n",
              "\n",
              "        async function convertToInteractive(key) {\n",
              "          const element = document.querySelector('#df-a80a9baa-2e67-43fc-a8f7-ab2d8d798b72');\n",
              "          const dataTable =\n",
              "            await google.colab.kernel.invokeFunction('convertToInteractive',\n",
              "                                                     [key], {});\n",
              "          if (!dataTable) return;\n",
              "\n",
              "          const docLinkHtml = 'Like what you see? Visit the ' +\n",
              "            '<a target=\"_blank\" href=https://colab.research.google.com/notebooks/data_table.ipynb>data table notebook</a>'\n",
              "            + ' to learn more about interactive tables.';\n",
              "          element.innerHTML = '';\n",
              "          dataTable['output_type'] = 'display_data';\n",
              "          await google.colab.output.renderOutput(dataTable, element);\n",
              "          const docLink = document.createElement('div');\n",
              "          docLink.innerHTML = docLinkHtml;\n",
              "          element.appendChild(docLink);\n",
              "        }\n",
              "      </script>\n",
              "    </div>\n",
              "  </div>\n",
              "  "
            ]
          },
          "metadata": {},
          "execution_count": 22
        }
      ]
    },
    {
      "cell_type": "markdown",
      "source": [
        "The weekly transactions occured over the period of three-year (2010-2012) in 45 stores. The maximum weekly sales is $3.8 million and the hottest day was 100°F."
      ],
      "metadata": {
        "id": "5KB8Ss9jnKvQ"
      }
    },
    {
      "cell_type": "markdown",
      "source": [
        "**2. What is the distribution of the features of the dataset?**"
      ],
      "metadata": {
        "id": "RveOakHSnO1d"
      }
    },
    {
      "cell_type": "code",
      "source": [
        "# histograms\n",
        "sales.hist(figsize=(30,20));"
      ],
      "metadata": {
        "colab": {
          "base_uri": "https://localhost:8080/",
          "height": 949
        },
        "id": "lk0ySe1nXZVa",
        "outputId": "f92303ec-065e-4cd9-9f0f-6dd0bd04d7c5"
      },
      "execution_count": 23,
      "outputs": [
        {
          "output_type": "display_data",
          "data": {
            "text/plain": [
              "<Figure size 2160x1440 with 12 Axes>"
            ],
            "image/png": "[encoded data removed]"
          },
          "metadata": {}
        }
      ]
    },
    {
      "cell_type": "markdown",
      "source": [
        "From the above histograms, we can understand that:\n",
        "* the number of transactions occurred almost evenly across various stores and years.\n",
        "* The distribution of `weekly_sales` right-skewed. Only a few of the weekly sales are above 2 million USD.\n",
        "* The distribution of `temperature` is approximately normal.\n",
        "* The distribution of `fuel_price` is bi-modal.\n",
        "* `CPI` formed two clusters.\n",
        "* `unemployment` rate is near normally distributed.\n",
        "* Four consecutive months November-February recorded the highest sales."
      ],
      "metadata": {
        "id": "twuxahlNnWGV"
      }
    },
    {
      "cell_type": "markdown",
      "source": [
        "**3. What is the overall trend in sales over time?**"
      ],
      "metadata": {
        "id": "Sz0ZkEfWnr6T"
      }
    },
    {
      "cell_type": "markdown",
      "source": [
        "Sales trend analysis involves examining the historical sales data of a business or product over time to understand patterns, trends, and changes in sales performance. It is an important tool for businesses to identify\n",
        "opportunities for growth, understand their customers' behaviour, optimise resources, and make informed decisions about future sales.\n",
        "\n",
        "We will aggregate the average weekly sales by months for the three year and visualise the trend using a line\n",
        "plot."
      ],
      "metadata": {
        "id": "eT8lcjoKnr2-"
      }
    },
    {
      "cell_type": "code",
      "source": [
        "# plot the line chart of the weekly_sales\n",
        "fig, ax = plt.subplots(figsize=(20, 5))\n",
        "sns.lineplot(x=sales.date, y=(sales.weekly_sales/1e6))\n",
        "plt.xlabel('months')\n",
        "plt.ylabel('Weekly Sales (in million USD)')\n",
        "plt.title('Weekly Sales Trend',fontdict={'fontsize': 16, 'color':'red'}, pad=5)\n",
        "annot = ax.annotate(\"\", xy=(0,0), xytext=(20,20),textcoords=\"offset points\",\n",
        "bbox=dict(boxstyle=\"round\", fc=\"w\"),\n",
        "arrowprops=dict(arrowstyle=\"->\"))\n",
        "annot.set_visible(False)\n",
        "plt.show()"
      ],
      "metadata": {
        "colab": {
          "base_uri": "https://localhost:8080/",
          "height": 356
        },
        "id": "kD3aSFFxXfVe",
        "outputId": "e86e76f9-82fc-47de-e93b-2ded440cbb55"
      },
      "execution_count": 24,
      "outputs": [
        {
          "output_type": "display_data",
          "data": {
            "text/plain": [
              "<Figure size 1440x360 with 1 Axes>"
            ],
            "image/png": "[encoded data removed]"
          },
          "metadata": {}
        }
      ]
    },
    {
      "cell_type": "markdown",
      "source": [
        "The line plot reveals that weekly sales at Walmart generally remain stable throughout the year, with the exception of November and December, which experience a significant increase in sales. This trend is likely due to\n",
        "the holiday season, when consumers typically make more purchases and retailers offer promotions and discounts. To capitalize on this behavior, Walmart could consider offering seasonal discounts and promotions, as well as ensuring a seamless and enjoyable shopping experience through their mobile and web outlets during festive periods. By doing so, they can encourage more customers to make purchases and potentially drive up sales."
      ],
      "metadata": {
        "id": "iKx72FB4n3t_"
      }
    },
    {
      "cell_type": "markdown",
      "source": [
        "**4. Are there any seasonality trends in the dataset?**"
      ],
      "metadata": {
        "id": "1xZzL-qfn_0X"
      }
    },
    {
      "cell_type": "markdown",
      "source": [
        "Seasonality trends analysis can be extremely valuable for businesses, as it allows us to better forecast future sales, make more informed decisions about inventory and staffing, and understand the drivers of customer demand leading to improved efficiency and profitability.\n",
        "\n",
        "We will create a pivot table to group the data by month and year and calculate the average sales for each period. We will then plot the average sales of the table using line chart for the three years. This will allow us to see if there are any patterns in the data that repeat at regular intervals."
      ],
      "metadata": {
        "id": "58MEsn8noEBT"
      }
    },
    {
      "cell_type": "code",
      "source": [
        "# create the pivot table\n",
        "pivot_table = sales.pivot_table(index='month', columns='year', values='weekly_sales')\n",
        "# display the pivot table\n",
        "pivot_table"
      ],
      "metadata": {
        "colab": {
          "base_uri": "https://localhost:8080/",
          "height": 457
        },
        "id": "OPKV_-9mX9k8",
        "outputId": "41fbfab9-09f5-4f20-f539-f22e2acd44e1"
      },
      "execution_count": 25,
      "outputs": [
        {
          "output_type": "execute_result",
          "data": {
            "text/plain": [
              "year           2010          2011          2012\n",
              "month                                          \n",
              "1      9.386639e+05  9.420697e+05  9.567817e+05\n",
              "2      1.064372e+06  1.042273e+06  1.057997e+06\n",
              "3      1.034590e+06  1.011263e+06  1.025510e+06\n",
              "4      1.021177e+06  1.033220e+06  1.014127e+06\n",
              "5      1.039303e+06  1.015565e+06  1.053948e+06\n",
              "6      1.055082e+06  1.038471e+06  1.082920e+06\n",
              "7      1.023702e+06  9.976049e+05  1.025480e+06\n",
              "8      1.025212e+06  1.044895e+06  1.064514e+06\n",
              "9      9.983559e+05  1.026810e+06  9.988663e+05\n",
              "10     1.027201e+06  1.020663e+06  1.044885e+06\n",
              "11     1.176097e+06  1.126535e+06  1.042797e+06\n",
              "12     1.198413e+06  1.274311e+06  1.025078e+06"
            ],
            "text/html": [
              "\n",
              "  <div id=\"df-182c5c0a-8576-4c3a-925c-92d9aa9f8b57\">\n",
              "    <div class=\"colab-df-container\">\n",
              "      <div>\n",
              "<style scoped>\n",
              "    .dataframe tbody tr th:only-of-type {\n",
              "        vertical-align: middle;\n",
              "    }\n",
              "\n",
              "    .dataframe tbody tr th {\n",
              "        vertical-align: top;\n",
              "    }\n",
              "\n",
              "    .dataframe thead th {\n",
              "        text-align: right;\n",
              "    }\n",
              "</style>\n",
              "<table border=\"1\" class=\"dataframe\">\n",
              "  <thead>\n",
              "    <tr style=\"text-align: right;\">\n",
              "      <th>year</th>\n",
              "      <th>2010</th>\n",
              "      <th>2011</th>\n",
              "      <th>2012</th>\n",
              "    </tr>\n",
              "    <tr>\n",
              "      <th>month</th>\n",
              "      <th></th>\n",
              "      <th></th>\n",
              "      <th></th>\n",
              "    </tr>\n",
              "  </thead>\n",
              "  <tbody>\n",
              "    <tr>\n",
              "      <th>1</th>\n",
              "      <td>9.386639e+05</td>\n",
              "      <td>9.420697e+05</td>\n",
              "      <td>9.567817e+05</td>\n",
              "    </tr>\n",
              "    <tr>\n",
              "      <th>2</th>\n",
              "      <td>1.064372e+06</td>\n",
              "      <td>1.042273e+06</td>\n",
              "      <td>1.057997e+06</td>\n",
              "    </tr>\n",
              "    <tr>\n",
              "      <th>3</th>\n",
              "      <td>1.034590e+06</td>\n",
              "      <td>1.011263e+06</td>\n",
              "      <td>1.025510e+06</td>\n",
              "    </tr>\n",
              "    <tr>\n",
              "      <th>4</th>\n",
              "      <td>1.021177e+06</td>\n",
              "      <td>1.033220e+06</td>\n",
              "      <td>1.014127e+06</td>\n",
              "    </tr>\n",
              "    <tr>\n",
              "      <th>5</th>\n",
              "      <td>1.039303e+06</td>\n",
              "      <td>1.015565e+06</td>\n",
              "      <td>1.053948e+06</td>\n",
              "    </tr>\n",
              "    <tr>\n",
              "      <th>6</th>\n",
              "      <td>1.055082e+06</td>\n",
              "      <td>1.038471e+06</td>\n",
              "      <td>1.082920e+06</td>\n",
              "    </tr>\n",
              "    <tr>\n",
              "      <th>7</th>\n",
              "      <td>1.023702e+06</td>\n",
              "      <td>9.976049e+05</td>\n",
              "      <td>1.025480e+06</td>\n",
              "    </tr>\n",
              "    <tr>\n",
              "      <th>8</th>\n",
              "      <td>1.025212e+06</td>\n",
              "      <td>1.044895e+06</td>\n",
              "      <td>1.064514e+06</td>\n",
              "    </tr>\n",
              "    <tr>\n",
              "      <th>9</th>\n",
              "      <td>9.983559e+05</td>\n",
              "      <td>1.026810e+06</td>\n",
              "      <td>9.988663e+05</td>\n",
              "    </tr>\n",
              "    <tr>\n",
              "      <th>10</th>\n",
              "      <td>1.027201e+06</td>\n",
              "      <td>1.020663e+06</td>\n",
              "      <td>1.044885e+06</td>\n",
              "    </tr>\n",
              "    <tr>\n",
              "      <th>11</th>\n",
              "      <td>1.176097e+06</td>\n",
              "      <td>1.126535e+06</td>\n",
              "      <td>1.042797e+06</td>\n",
              "    </tr>\n",
              "    <tr>\n",
              "      <th>12</th>\n",
              "      <td>1.198413e+06</td>\n",
              "      <td>1.274311e+06</td>\n",
              "      <td>1.025078e+06</td>\n",
              "    </tr>\n",
              "  </tbody>\n",
              "</table>\n",
              "</div>\n",
              "      <button class=\"colab-df-convert\" onclick=\"convertToInteractive('df-182c5c0a-8576-4c3a-925c-92d9aa9f8b57')\"\n",
              "              title=\"Convert this dataframe to an interactive table.\"\n",
              "              style=\"display:none;\">\n",
              "        \n",
              "  <svg xmlns=\"http://www.w3.org/2000/svg\" height=\"24px\"viewBox=\"0 0 24 24\"\n",
              "       width=\"24px\">\n",
              "    <path d=\"M0 0h24v24H0V0z\" fill=\"none\"/>\n",
              "    <path d=\"M18.56 5.44l.94 2.06.94-2.06 2.06-.94-2.06-.94-.94-2.06-.94 2.06-2.06.94zm-11 1L8.5 8.5l.94-2.06 2.06-.94-2.06-.94L8.5 2.5l-.94 2.06-2.06.94zm10 10l.94 2.06.94-2.06 2.06-.94-2.06-.94-.94-2.06-.94 2.06-2.06.94z\"/><path d=\"M17.41 7.96l-1.37-1.37c-.4-.4-.92-.59-1.43-.59-.52 0-1.04.2-1.43.59L10.3 9.45l-7.72 7.72c-.78.78-.78 2.05 0 2.83L4 21.41c.39.39.9.59 1.41.59.51 0 1.02-.2 1.41-.59l7.78-7.78 2.81-2.81c.8-.78.8-2.07 0-2.86zM5.41 20L4 18.59l7.72-7.72 1.47 1.35L5.41 20z\"/>\n",
              "  </svg>\n",
              "      </button>\n",
              "      \n",
              "  <style>\n",
              "    .colab-df-container {\n",
              "      display:flex;\n",
              "      flex-wrap:wrap;\n",
              "      gap: 12px;\n",
              "    }\n",
              "\n",
              "    .colab-df-convert {\n",
              "      background-color: #E8F0FE;\n",
              "      border: none;\n",
              "      border-radius: 50%;\n",
              "      cursor: pointer;\n",
              "      display: none;\n",
              "      fill: #1967D2;\n",
              "      height: 32px;\n",
              "      padding: 0 0 0 0;\n",
              "      width: 32px;\n",
              "    }\n",
              "\n",
              "    .colab-df-convert:hover {\n",
              "      background-color: #E2EBFA;\n",
              "      box-shadow: 0px 1px 2px rgba(60, 64, 67, 0.3), 0px 1px 3px 1px rgba(60, 64, 67, 0.15);\n",
              "      fill: #174EA6;\n",
              "    }\n",
              "\n",
              "    [theme=dark] .colab-df-convert {\n",
              "      background-color: #3B4455;\n",
              "      fill: #D2E3FC;\n",
              "    }\n",
              "\n",
              "    [theme=dark] .colab-df-convert:hover {\n",
              "      background-color: #434B5C;\n",
              "      box-shadow: 0px 1px 3px 1px rgba(0, 0, 0, 0.15);\n",
              "      filter: drop-shadow(0px 1px 2px rgba(0, 0, 0, 0.3));\n",
              "      fill: #FFFFFF;\n",
              "    }\n",
              "  </style>\n",
              "\n",
              "      <script>\n",
              "        const buttonEl =\n",
              "          document.querySelector('#df-182c5c0a-8576-4c3a-925c-92d9aa9f8b57 button.colab-df-convert');\n",
              "        buttonEl.style.display =\n",
              "          google.colab.kernel.accessAllowed ? 'block' : 'none';\n",
              "\n",
              "        async function convertToInteractive(key) {\n",
              "          const element = document.querySelector('#df-182c5c0a-8576-4c3a-925c-92d9aa9f8b57');\n",
              "          const dataTable =\n",
              "            await google.colab.kernel.invokeFunction('convertToInteractive',\n",
              "                                                     [key], {});\n",
              "          if (!dataTable) return;\n",
              "\n",
              "          const docLinkHtml = 'Like what you see? Visit the ' +\n",
              "            '<a target=\"_blank\" href=https://colab.research.google.com/notebooks/data_table.ipynb>data table notebook</a>'\n",
              "            + ' to learn more about interactive tables.';\n",
              "          element.innerHTML = '';\n",
              "          dataTable['output_type'] = 'display_data';\n",
              "          await google.colab.output.renderOutput(dataTable, element);\n",
              "          const docLink = document.createElement('div');\n",
              "          docLink.innerHTML = docLinkHtml;\n",
              "          element.appendChild(docLink);\n",
              "        }\n",
              "      </script>\n",
              "    </div>\n",
              "  </div>\n",
              "  "
            ]
          },
          "metadata": {},
          "execution_count": 25
        }
      ]
    },
    {
      "cell_type": "code",
      "source": [
        "# plot the average sales\n",
        "fig, ax = plt.subplots(figsize=(20, 6))\n",
        "sns.set_palette(\"bright\")\n",
        "sns.lineplot(x=pivot_table.index, y=pivot_table[2010]/1e6, ax=ax, label='2010')\n",
        "sns.lineplot( x=pivot_table.index, y=pivot_table[2011]/1e6, ax=ax, label='2011')\n",
        "sns.lineplot( x=pivot_table.index, y=pivot_table[2012]/1e6, ax=ax, label='2012')\n",
        "plt.ylabel('Average weekly sales (in millions USD)')\n",
        "plt.title('Average Sales Trends for 2010, 2011 & 2012', fontdict ={'fontsize':16,'color':'red','horizontalalignment':'center'}, pad=12)\n",
        "# Add a legend\n",
        "plt.legend()\n",
        "plt.show()"
      ],
      "metadata": {
        "colab": {
          "base_uri": "https://localhost:8080/",
          "height": 418
        },
        "id": "urHsJn_jYFnE",
        "outputId": "fc0fb491-7705-4eca-9990-8f9c5b5f213f"
      },
      "execution_count": 27,
      "outputs": [
        {
          "output_type": "display_data",
          "data": {
            "text/plain": [
              "<Figure size 1440x432 with 1 Axes>"
            ],
            "image/png": "[encoded data removed]"
          },
          "metadata": {}
        }
      ]
    },
    {
      "cell_type": "markdown",
      "source": [
        "We can observe that the line charts for the three years for the month of January to October simultaneously follow a sawtooth shape with big rises experienced in November and December due to holidays. This indicates\n",
        "seasonality trends as months do have consistencies in bigger or smaller sales for the three years. We can also observe that although 2011 performed worst than 2010 in terms of average sales for Walmart, the trend was reversed for the year 2012 which performed better than 2010. However, the data for 2012 ends in October, which may explain the significant drop in sales for November.\""
      ],
      "metadata": {
        "id": "K4tCLXFgoN17"
      }
    },
    {
      "cell_type": "markdown",
      "source": [
        "**5. Which stores had the highest and lowest average revenues over the years?**"
      ],
      "metadata": {
        "id": "7Y2O-v6poTCv"
      }
    },
    {
      "cell_type": "markdown",
      "source": [
        "Identifying the top performing and lo performing stores or products in sales analysis can be useful for a variety of purposes. By analysing the sales data for different stores, businesses can identify opportunities for growth,\n",
        "understand customer preferences, optimise inventory levels, and identify potential problems or areas for improvement. Understanding the performance of different stores can inform product development and marketing efforts, as well as help businesses allocate resources more effectively and make more informed\n",
        "business decisions.\n",
        "\n",
        "We will create a function that takes a dataframe as input and generates two plots showing the top and bottom performing stores in terms of average sales."
      ],
      "metadata": {
        "id": "RTJKAnU4oVun"
      }
    },
    {
      "cell_type": "code",
      "source": [
        "def plot_top_and_bottom_stores(df, col):\n",
        "  \"\"\"\n",
        "  Plot the top and bottom 5 stores based on their average weekly sales.\n",
        "  Parameters:\n",
        "  df (pandas DataFrame): The dataframe containing the sales data.\n",
        "  col (str): The name of the column to group the data by.\n",
        "  Returns:\n",
        "  None\n",
        "  \"\"\"\n",
        "  # Group the data by the specified column and sort it by sales in descending order\n",
        "  df = df.groupby(col).mean().sort_values(by='weekly_sales', ascending=False)\n",
        "  # Select the top 5 and bottom 5 products\n",
        "  top_stores = df.head(5)\n",
        "  bottom_stores = df.tail(5)\n",
        "  # Set the color palette\n",
        "  sns.set_palette(\"bright\")\n",
        "  # Create a bar chart of the top 5 products\n",
        "  fig, ax = plt.subplots(figsize=(10, 6))\n",
        "  sns.barplot(x=top_stores.index, y=top_stores['weekly_sales']/1e6, order=top_stores.index)\n",
        "  plt.title('Top 5 Stores by Average Sales')\n",
        "  plt.ylabel('Average weekly sales (millions USD)')\n",
        "  plt.show()\n",
        "  # Create a bar chart of the bottom 5 products\n",
        "  fig, ax = plt.subplots(figsize=(10, 6))\n",
        "  sns.barplot(x=bottom_stores.index, y=bottom_stores['weekly_sales']/1e6, order=bottom_stores.index)\n",
        "  plt.title('Bottom 5 Stores by Average Sales')\n",
        "  plt.ylabel('Average weekly sales (millions USD)')\n",
        "  plt.show()"
      ],
      "metadata": {
        "id": "ISkArrLJYgHn"
      },
      "execution_count": 30,
      "outputs": []
    },
    {
      "cell_type": "code",
      "source": [
        "plot_top_and_bottom_stores(sales, 'store')"
      ],
      "metadata": {
        "colab": {
          "base_uri": "https://localhost:8080/",
          "height": 803
        },
        "id": "9aJwbmS-Y0wE",
        "outputId": "4eaf8c35-6f5c-479a-e88d-d8b4df185ed9"
      },
      "execution_count": 31,
      "outputs": [
        {
          "output_type": "display_data",
          "data": {
            "text/plain": [
              "<Figure size 720x432 with 1 Axes>"
            ],
            "image/png": "[encoded data removed]"
          },
          "metadata": {}
        },
        {
          "output_type": "display_data",
          "data": {
            "text/plain": [
              "<Figure size 720x432 with 1 Axes>"
            ],
            "image/png": "[encoded data removed]"
          },
          "metadata": {}
        }
      ]
    },
    {
      "cell_type": "markdown",
      "source": [
        "The graphs show that the top performing stores have relatively stable sales with an average of around $2 million USD. Store 20 appears to be the top performer among these stores, with relatively little variation in sales\n",
        "compared to the other top performers. \n",
        "\n",
        "On the other hand, the lowest performing stores have higher variations in sales, with the highest sales at around $0.38 million USD. This suggests that there may be more variability in the sales performance of these stores."
      ],
      "metadata": {
        "id": "MavKZ05gomhd"
      }
    },
    {
      "cell_type": "markdown",
      "source": [
        "**6. How does non-holiday weekly sales compared to holiday weekly sales?**"
      ],
      "metadata": {
        "id": "tQ9UCMt9ot71"
      }
    },
    {
      "cell_type": "code",
      "source": [
        "# filter out non-holiday and holiday weekly sales\n",
        "non_holiday_sales = sales[sales['holiday_flag'] == 0]\n",
        "holiday_sales = sales[sales['holiday_flag'] == 1]"
      ],
      "metadata": {
        "id": "vBDAaSCmZLCO"
      },
      "execution_count": 32,
      "outputs": []
    },
    {
      "cell_type": "code",
      "source": [
        "# plot box plots of non-holiday and holiday weekly sales\n",
        "fig, ax = plt.subplots(figsize=(10, 5))\n",
        "sns.boxplot(data=[holiday_sales['weekly_sales']/1e6, non_holiday_sales['weekly_sales']/1e6])\n",
        "plt.ylabel('Weekly sales in million USD')\n",
        "plt.xlabel('Week type')\n",
        "plt.title('Box plots of non-holiday and holiday weekly sales')\n",
        "plt.show()"
      ],
      "metadata": {
        "colab": {
          "base_uri": "https://localhost:8080/",
          "height": 355
        },
        "id": "d_8sMrnuZX36",
        "outputId": "1d31d4b3-a050-477c-9b32-49da3fdbd628"
      },
      "execution_count": 35,
      "outputs": [
        {
          "output_type": "display_data",
          "data": {
            "text/plain": [
              "<Figure size 720x360 with 1 Axes>"
            ],
            "image/png": "[encoded data removed]"
          },
          "metadata": {}
        }
      ]
    },
    {
      "cell_type": "markdown",
      "source": [
        "We can see that both holiday and non-holiday weekly sales have similar spread. However, the bigger sales happen during the holiday weeks."
      ],
      "metadata": {
        "id": "YZrfu8DLo5v9"
      }
    },
    {
      "cell_type": "markdown",
      "source": [
        "**7. Are there correlations between the features of the dataset and weekly_sales?**"
      ],
      "metadata": {
        "id": "SoQHh85Io90G"
      }
    },
    {
      "cell_type": "code",
      "source": [
        "fig, ax = plt.subplots(figsize=(15,15))\n",
        "heatmap = sns.heatmap(sales.corr(), vmin=-1, vmax=1, annot=True, cmap =\"YlGnBu\")\n",
        "heatmap.set_title('Correlation Heatmap', fontdict={'fontsize':14}, pad=12);"
      ],
      "metadata": {
        "colab": {
          "base_uri": "https://localhost:8080/",
          "height": 963
        },
        "id": "mbG9GqmRZdbf",
        "outputId": "40aefe3e-b6c9-41f4-9c70-ad89191a4059"
      },
      "execution_count": 36,
      "outputs": [
        {
          "output_type": "display_data",
          "data": {
            "text/plain": [
              "<Figure size 1080x1080 with 2 Axes>"
            ],
            "image/png": "[encoded data removed]"
          },
          "metadata": {}
        }
      ]
    },
    {
      "cell_type": "markdown",
      "source": [
        "Of all the weaker correlations, employment is the strongest with 0.11 correlation coefficient."
      ],
      "metadata": {
        "id": "O4a9H0yipFBg"
      }
    },
    {
      "cell_type": "markdown",
      "source": [
        "# 4. Model Selection and Evaluation"
      ],
      "metadata": {
        "id": "vd33V2VNZ_Gj"
      }
    },
    {
      "cell_type": "markdown",
      "source": [
        "In this section, we will evaluate the performance of several different regressors on our data. We will use root mean squared error (RMSE) as our evaluation metric. RMSE is a measure of the difference between the predicted\n",
        "values and the true values. It is calculated as the square root of the mean squared error (MSE), where MSE is the average of the squared differences between the predicted and true values. Lower values of RMSE indicate better\n",
        "performance.\n",
        "\n",
        "We will fit and evaluate the following regressors:"
      ],
      "metadata": {
        "id": "yKnuyBpypIWO"
      }
    },
    {
      "cell_type": "markdown",
      "source": [
        "* Linear Regression\n",
        "* Decision Tree Regressor\n",
        "* Random Forest Regressor\n",
        "* Support Vector Regressor, etc."
      ],
      "metadata": {
        "id": "K0nKjg7XpSe1"
      }
    },
    {
      "cell_type": "markdown",
      "source": [
        "We will fit each of these regressors to our training data and make predictions on the test set. Then, we will calculate the RMSE of the predictions and compare the results to choose the best regressor.\n",
        "\n",
        "To ensure that the original dataset is not modified during the modeling process and to facilitate debugging if needed, we will create a copy of the preprocessed dataset before fitting our various models. This will help to\n",
        "preserve the integrity of the original data and allow us to refer to it if any issues arise during the modeling process."
      ],
      "metadata": {
        "id": "MqN9AJivpdRE"
      }
    },
    {
      "cell_type": "code",
      "source": [
        "# make a copy of the dataset\n",
        "sales_copy = sales.copy()"
      ],
      "metadata": {
        "id": "gWo6j65bZuxl"
      },
      "execution_count": 37,
      "outputs": []
    },
    {
      "cell_type": "code",
      "source": [
        "# drop the date and unemployment columns\n",
        "sales_copy.drop(['date', 'unemployment'], axis=1, inplace=True)\n",
        "# check\n",
        "sales_copy.head()"
      ],
      "metadata": {
        "colab": {
          "base_uri": "https://localhost:8080/",
          "height": 206
        },
        "id": "GkFe2jLIaC1K",
        "outputId": "82770813-ae3a-455b-c29c-44803a12715f"
      },
      "execution_count": 38,
      "outputs": [
        {
          "output_type": "execute_result",
          "data": {
            "text/plain": [
              "   store  weekly_sales  holiday_flag  temperature  fuel_price         cpi  \\\n",
              "0      1    1643690.90             0        42.31       2.572  211.096358   \n",
              "1      1    1641957.44             1        38.51       2.548  211.242170   \n",
              "2      1    1611968.17             0        39.93       2.514  211.289143   \n",
              "3      1    1409727.59             0        46.63       2.561  211.319643   \n",
              "4      1    1554806.68             0        46.50       2.625  211.350143   \n",
              "\n",
              "   employment  year  month  day  \n",
              "0      91.894  2010      5    2  \n",
              "1      91.894  2010     12    2  \n",
              "2      91.894  2010      2   19  \n",
              "3      91.894  2010      2   26  \n",
              "4      91.894  2010      5    3  "
            ],
            "text/html": [
              "\n",
              "  <div id=\"df-e92b3c4a-2059-4db2-a238-872a43ca2aa4\">\n",
              "    <div class=\"colab-df-container\">\n",
              "      <div>\n",
              "<style scoped>\n",
              "    .dataframe tbody tr th:only-of-type {\n",
              "        vertical-align: middle;\n",
              "    }\n",
              "\n",
              "    .dataframe tbody tr th {\n",
              "        vertical-align: top;\n",
              "    }\n",
              "\n",
              "    .dataframe thead th {\n",
              "        text-align: right;\n",
              "    }\n",
              "</style>\n",
              "<table border=\"1\" class=\"dataframe\">\n",
              "  <thead>\n",
              "    <tr style=\"text-align: right;\">\n",
              "      <th></th>\n",
              "      <th>store</th>\n",
              "      <th>weekly_sales</th>\n",
              "      <th>holiday_flag</th>\n",
              "      <th>temperature</th>\n",
              "      <th>fuel_price</th>\n",
              "      <th>cpi</th>\n",
              "      <th>employment</th>\n",
              "      <th>year</th>\n",
              "      <th>month</th>\n",
              "      <th>day</th>\n",
              "    </tr>\n",
              "  </thead>\n",
              "  <tbody>\n",
              "    <tr>\n",
              "      <th>0</th>\n",
              "      <td>1</td>\n",
              "      <td>1643690.90</td>\n",
              "      <td>0</td>\n",
              "      <td>42.31</td>\n",
              "      <td>2.572</td>\n",
              "      <td>211.096358</td>\n",
              "      <td>91.894</td>\n",
              "      <td>2010</td>\n",
              "      <td>5</td>\n",
              "      <td>2</td>\n",
              "    </tr>\n",
              "    <tr>\n",
              "      <th>1</th>\n",
              "      <td>1</td>\n",
              "      <td>1641957.44</td>\n",
              "      <td>1</td>\n",
              "      <td>38.51</td>\n",
              "      <td>2.548</td>\n",
              "      <td>211.242170</td>\n",
              "      <td>91.894</td>\n",
              "      <td>2010</td>\n",
              "      <td>12</td>\n",
              "      <td>2</td>\n",
              "    </tr>\n",
              "    <tr>\n",
              "      <th>2</th>\n",
              "      <td>1</td>\n",
              "      <td>1611968.17</td>\n",
              "      <td>0</td>\n",
              "      <td>39.93</td>\n",
              "      <td>2.514</td>\n",
              "      <td>211.289143</td>\n",
              "      <td>91.894</td>\n",
              "      <td>2010</td>\n",
              "      <td>2</td>\n",
              "      <td>19</td>\n",
              "    </tr>\n",
              "    <tr>\n",
              "      <th>3</th>\n",
              "      <td>1</td>\n",
              "      <td>1409727.59</td>\n",
              "      <td>0</td>\n",
              "      <td>46.63</td>\n",
              "      <td>2.561</td>\n",
              "      <td>211.319643</td>\n",
              "      <td>91.894</td>\n",
              "      <td>2010</td>\n",
              "      <td>2</td>\n",
              "      <td>26</td>\n",
              "    </tr>\n",
              "    <tr>\n",
              "      <th>4</th>\n",
              "      <td>1</td>\n",
              "      <td>1554806.68</td>\n",
              "      <td>0</td>\n",
              "      <td>46.50</td>\n",
              "      <td>2.625</td>\n",
              "      <td>211.350143</td>\n",
              "      <td>91.894</td>\n",
              "      <td>2010</td>\n",
              "      <td>5</td>\n",
              "      <td>3</td>\n",
              "    </tr>\n",
              "  </tbody>\n",
              "</table>\n",
              "</div>\n",
              "      <button class=\"colab-df-convert\" onclick=\"convertToInteractive('df-e92b3c4a-2059-4db2-a238-872a43ca2aa4')\"\n",
              "              title=\"Convert this dataframe to an interactive table.\"\n",
              "              style=\"display:none;\">\n",
              "        \n",
              "  <svg xmlns=\"http://www.w3.org/2000/svg\" height=\"24px\"viewBox=\"0 0 24 24\"\n",
              "       width=\"24px\">\n",
              "    <path d=\"M0 0h24v24H0V0z\" fill=\"none\"/>\n",
              "    <path d=\"M18.56 5.44l.94 2.06.94-2.06 2.06-.94-2.06-.94-.94-2.06-.94 2.06-2.06.94zm-11 1L8.5 8.5l.94-2.06 2.06-.94-2.06-.94L8.5 2.5l-.94 2.06-2.06.94zm10 10l.94 2.06.94-2.06 2.06-.94-2.06-.94-.94-2.06-.94 2.06-2.06.94z\"/><path d=\"M17.41 7.96l-1.37-1.37c-.4-.4-.92-.59-1.43-.59-.52 0-1.04.2-1.43.59L10.3 9.45l-7.72 7.72c-.78.78-.78 2.05 0 2.83L4 21.41c.39.39.9.59 1.41.59.51 0 1.02-.2 1.41-.59l7.78-7.78 2.81-2.81c.8-.78.8-2.07 0-2.86zM5.41 20L4 18.59l7.72-7.72 1.47 1.35L5.41 20z\"/>\n",
              "  </svg>\n",
              "      </button>\n",
              "      \n",
              "  <style>\n",
              "    .colab-df-container {\n",
              "      display:flex;\n",
              "      flex-wrap:wrap;\n",
              "      gap: 12px;\n",
              "    }\n",
              "\n",
              "    .colab-df-convert {\n",
              "      background-color: #E8F0FE;\n",
              "      border: none;\n",
              "      border-radius: 50%;\n",
              "      cursor: pointer;\n",
              "      display: none;\n",
              "      fill: #1967D2;\n",
              "      height: 32px;\n",
              "      padding: 0 0 0 0;\n",
              "      width: 32px;\n",
              "    }\n",
              "\n",
              "    .colab-df-convert:hover {\n",
              "      background-color: #E2EBFA;\n",
              "      box-shadow: 0px 1px 2px rgba(60, 64, 67, 0.3), 0px 1px 3px 1px rgba(60, 64, 67, 0.15);\n",
              "      fill: #174EA6;\n",
              "    }\n",
              "\n",
              "    [theme=dark] .colab-df-convert {\n",
              "      background-color: #3B4455;\n",
              "      fill: #D2E3FC;\n",
              "    }\n",
              "\n",
              "    [theme=dark] .colab-df-convert:hover {\n",
              "      background-color: #434B5C;\n",
              "      box-shadow: 0px 1px 3px 1px rgba(0, 0, 0, 0.15);\n",
              "      filter: drop-shadow(0px 1px 2px rgba(0, 0, 0, 0.3));\n",
              "      fill: #FFFFFF;\n",
              "    }\n",
              "  </style>\n",
              "\n",
              "      <script>\n",
              "        const buttonEl =\n",
              "          document.querySelector('#df-e92b3c4a-2059-4db2-a238-872a43ca2aa4 button.colab-df-convert');\n",
              "        buttonEl.style.display =\n",
              "          google.colab.kernel.accessAllowed ? 'block' : 'none';\n",
              "\n",
              "        async function convertToInteractive(key) {\n",
              "          const element = document.querySelector('#df-e92b3c4a-2059-4db2-a238-872a43ca2aa4');\n",
              "          const dataTable =\n",
              "            await google.colab.kernel.invokeFunction('convertToInteractive',\n",
              "                                                     [key], {});\n",
              "          if (!dataTable) return;\n",
              "\n",
              "          const docLinkHtml = 'Like what you see? Visit the ' +\n",
              "            '<a target=\"_blank\" href=https://colab.research.google.com/notebooks/data_table.ipynb>data table notebook</a>'\n",
              "            + ' to learn more about interactive tables.';\n",
              "          element.innerHTML = '';\n",
              "          dataTable['output_type'] = 'display_data';\n",
              "          await google.colab.output.renderOutput(dataTable, element);\n",
              "          const docLink = document.createElement('div');\n",
              "          docLink.innerHTML = docLinkHtml;\n",
              "          element.appendChild(docLink);\n",
              "        }\n",
              "      </script>\n",
              "    </div>\n",
              "  </div>\n",
              "  "
            ]
          },
          "metadata": {},
          "execution_count": 38
        }
      ]
    },
    {
      "cell_type": "code",
      "source": [
        "X = sales_copy.drop('weekly_sales', axis=1)\n",
        "y = sales_copy['weekly_sales']"
      ],
      "metadata": {
        "id": "-a4gwsE7aRBq"
      },
      "execution_count": 39,
      "outputs": []
    },
    {
      "cell_type": "markdown",
      "source": [
        "**Scaling the features**\n",
        "\n",
        "Scaling is a preprocessing step that transforms the features of a dataset so that they have a similar scale and can improve the performance of some regression algorithms and facilitate comparison of the model's coefficients. In\n",
        "this project we will use standard scaler to standardize the features of the dataset."
      ],
      "metadata": {
        "id": "tIkgtkqTpoVn"
      }
    },
    {
      "cell_type": "code",
      "source": [
        "# scale the features\n",
        "scaler = StandardScaler()\n",
        "X_scaled = scaler.fit_transform(X)"
      ],
      "metadata": {
        "id": "MpsxnTN-aXaz"
      },
      "execution_count": 40,
      "outputs": []
    },
    {
      "cell_type": "markdown",
      "source": [
        "**Spltting the dataset**"
      ],
      "metadata": {
        "id": "XViVsjuXpvOG"
      }
    },
    {
      "cell_type": "markdown",
      "source": [
        "To properly evaluate the performance of our dataset and prevent overfitting, we can use cross-validation techniques. One such technique is to split the dataset into a training set and a testing set. The training set is used to train the model, while the testing set is used to evaluate the model's performance. This can help us determine how well the model generalizes to unseen data and can identify any issues with overfitting. It is important to randomly shuffle the data before splitting it into the train and test sets, as this can help ensure that the data is representative of the overall population and not biased in any way."
      ],
      "metadata": {
        "id": "lSW4lS_zpzaV"
      }
    },
    {
      "cell_type": "code",
      "source": [
        "# split the dataset into train and test sets\n",
        "X_train, X_test, y_train, y_test = train_test_split(X_scaled, y, test_size=0.2, random_state=100)"
      ],
      "metadata": {
        "id": "UfYwfDCQahKe"
      },
      "execution_count": 41,
      "outputs": []
    },
    {
      "cell_type": "markdown",
      "source": [
        "**Model training and evaluation**"
      ],
      "metadata": {
        "id": "XJF0jZeGp-MV"
      }
    },
    {
      "cell_type": "markdown",
      "source": [
        "In this subsection, we will create a function that will train multiple regressors and compare their performance using the root mean square error (RMSE) metric. We will use the RMSE values to compare the performance of\n",
        "the various regressors and determine which model has the lowest error and is therefore the best fit for our data."
      ],
      "metadata": {
        "id": "bqQc64egqB4N"
      }
    },
    {
      "cell_type": "code",
      "source": [
        "def evaluate_model(model, X_train, y_train, X_test, y_test):\n",
        "  \"\"\"\n",
        "  Evaluate a model on training and test data.\n",
        "  Parameters\n",
        "  ----------\n",
        "  model : object\n",
        "  A scikit-learn estimator object.\n",
        "  X_train : array-like or pd.DataFrame\n",
        "  Training data with shape (n_samples, n_features).\n",
        "  y_train : array-like\n",
        "  Training labels with shape (n_samples,).\n",
        "  X_test : array-like or pd.DataFrame\n",
        "  Test data with shape (n_samples, n_features).\n",
        "  y_test : array-like\n",
        "  Test labels with shape (n_samples,).\n",
        "  Returns\n",
        "  -------\n",
        "  rmse : float\n",
        "  Root mean squared error between the test labels and the predictions.\n",
        "  \"\"\"\n",
        "  # train\n",
        "  model.fit(X_train, y_train)\n",
        "  # predict\n",
        "  y_pred = model.predict(X_test)\n",
        "  # calculate MSE\n",
        "  mse = mean_squared_error(y_test, y_pred)\n",
        "  # calculate RMSE\n",
        "  rmse = np.sqrt(mse)\n",
        "  return rmse"
      ],
      "metadata": {
        "id": "twyIfNYNazHv"
      },
      "execution_count": 42,
      "outputs": []
    },
    {
      "cell_type": "code",
      "source": [
        "def evaluate_regressors_rmses(regressors, regressor_names, X_train, y_train, X_test, y_test):\n",
        "  \"\"\"\n",
        "  This function takes a list of regressors, their names, and the training and test data\n",
        "  and returns a dataframe with the names of the regressors and their root mean squared e\n",
        "  on the test data.\n",
        "  Parameters:\n",
        "  -----------\n",
        "  regressors (list): a list of scikit-learn compatible regression models\n",
        "  regressor_names (list): a list of strings containing the names of the regression model\n",
        "  X_train (pandas DataFrame): a pandas DataFrame containing the features for training th\n",
        "  y_train (pandas Series): a pandas Series containing the target values for training the\n",
        "  X_test (pandas DataFrame): a pandas DataFrame containing the features for testing the\n",
        "  y_test (pandas Series): a pandas Series containing the target values for testing the m\n",
        "  Returns:\n",
        "  --------\n",
        "  pandas DataFrame: a dataframe containing the names of the regressors and their corresponding\n",
        "  \"\"\"\n",
        "  # evaluate the models and compute their RMSE on the test data\n",
        "  rmses = [evaluate_model(regressor, X_train, y_train, X_test, y_test) for regressor in regressors]\n",
        "  # create a dictionary mapping the names of the regressors to their RMSE\n",
        "  regressor_rmses = dict(zip(regressor_names, rmses))\n",
        "  # convert the dictionary to a pandas dataframe\n",
        "  df = pd.DataFrame.from_dict(regressor_rmses, orient='index')\n",
        "  # reset the index of the dataframe\n",
        "  df = df.reset_index()\n",
        "  # rename the columns of the dataframe\n",
        "  df.columns = ['regressor_name', 'rmse']\n",
        "  # sort the dataframe by RMSE in ascending order\n",
        "  return df.sort_values('rmse', ignore_index=True)"
      ],
      "metadata": {
        "id": "1szRjPZdbAkn"
      },
      "execution_count": 43,
      "outputs": []
    },
    {
      "cell_type": "code",
      "source": [
        "# initialize the regressors\n",
        "linear_regressor = LinearRegression()\n",
        "polynomial_features = PolynomialFeatures(degree=2)\n",
        "polynomial_regressor = Pipeline([(\"polynomial_features\", polynomial_features),(\"linear_regression\", linear_regressor)])\n",
        "ridge_regressor = Ridge()\n",
        "lasso_regressor = Lasso()\n",
        "elastic_net_regressor = ElasticNet()\n",
        "decision_tree_regressor = DecisionTreeRegressor()\n",
        "random_forest_regressor = RandomForestRegressor()\n",
        "boosted_tree_regressor = GradientBoostingRegressor()\n",
        "neural_network_regressor = MLPRegressor()\n",
        "support_vector_regressor = SVR()\n",
        "grad_regressor = GradientBoostingRegressor(n_estimators=100, learning_rate=0.1, loss='ls')\n",
        "knn_regressor = KNeighborsRegressor(n_neighbors=5, weights='uniform')\n",
        "spline_regressor = make_pipeline(PolynomialFeatures(3), LinearRegression())"
      ],
      "metadata": {
        "id": "_BHYCOpgbWAE"
      },
      "execution_count": 44,
      "outputs": []
    },
    {
      "cell_type": "code",
      "source": [
        "# collect the list of regressors\n",
        "regressors = [linear_regressor, polynomial_regressor, ridge_regressor, lasso_regressor, elastic_net_regressor,decision_tree_regressor, random_forest_regressor, \n",
        "              boosted_tree_regressor, neural_network_regressor, support_vector_regressor, knn_regressor, spline_regressor]\n",
        "# collect the names of regressors\n",
        "regressor_names = [\"Linear Regression\", \"Polynomial Regression\", \"Ridge Regression\", \"Lasso Regression\",\n",
        "\"Elastic Net Regression\", \"Decision Tree Regression\", \"Random Forest Regression\", \"Boosted Tree Regression\", \"Neural Network Regression\", \"Support  Vector Regression\",\n",
        "\"K-Nearest Neighbour Regression\", \"Spline Regression\"]"
      ],
      "metadata": {
        "id": "T9qfpKvxbfye"
      },
      "execution_count": 45,
      "outputs": []
    },
    {
      "cell_type": "code",
      "source": [
        "print('\\033[1m Table of regressors and their RMSEs')\n",
        "evaluate_regressors_rmses(regressors, regressor_names, X_train, y_train, X_test, y_test)"
      ],
      "metadata": {
        "colab": {
          "base_uri": "https://localhost:8080/",
          "height": 443
        },
        "id": "RMHmO-dnb45G",
        "outputId": "f5e3e197-1fbe-40f0-c44d-5d0313b5c0a2"
      },
      "execution_count": 46,
      "outputs": [
        {
          "output_type": "stream",
          "name": "stdout",
          "text": [
            "\u001b[1m Table of regressors and their RMSEs\n"
          ]
        },
        {
          "output_type": "execute_result",
          "data": {
            "text/plain": [
              "                    regressor_name          rmse\n",
              "0         Random Forest Regression  1.142545e+05\n",
              "1         Decision Tree Regression  1.301724e+05\n",
              "2          Boosted Tree Regression  1.680811e+05\n",
              "3                Spline Regression  4.292132e+05\n",
              "4   K-Nearest Neighbour Regression  4.567742e+05\n",
              "5            Polynomial Regression  4.766961e+05\n",
              "6                Linear Regression  5.242372e+05\n",
              "7                 Lasso Regression  5.242373e+05\n",
              "8                 Ridge Regression  5.242382e+05\n",
              "9           Elastic Net Regression  5.313859e+05\n",
              "10      Support  Vector Regression  5.722277e+05\n",
              "11       Neural Network Regression  1.170559e+06"
            ],
            "text/html": [
              "\n",
              "  <div id=\"df-c06e5d9f-09f2-4fae-8158-9f04af7c9827\">\n",
              "    <div class=\"colab-df-container\">\n",
              "      <div>\n",
              "<style scoped>\n",
              "    .dataframe tbody tr th:only-of-type {\n",
              "        vertical-align: middle;\n",
              "    }\n",
              "\n",
              "    .dataframe tbody tr th {\n",
              "        vertical-align: top;\n",
              "    }\n",
              "\n",
              "    .dataframe thead th {\n",
              "        text-align: right;\n",
              "    }\n",
              "</style>\n",
              "<table border=\"1\" class=\"dataframe\">\n",
              "  <thead>\n",
              "    <tr style=\"text-align: right;\">\n",
              "      <th></th>\n",
              "      <th>regressor_name</th>\n",
              "      <th>rmse</th>\n",
              "    </tr>\n",
              "  </thead>\n",
              "  <tbody>\n",
              "    <tr>\n",
              "      <th>0</th>\n",
              "      <td>Random Forest Regression</td>\n",
              "      <td>1.142545e+05</td>\n",
              "    </tr>\n",
              "    <tr>\n",
              "      <th>1</th>\n",
              "      <td>Decision Tree Regression</td>\n",
              "      <td>1.301724e+05</td>\n",
              "    </tr>\n",
              "    <tr>\n",
              "      <th>2</th>\n",
              "      <td>Boosted Tree Regression</td>\n",
              "      <td>1.680811e+05</td>\n",
              "    </tr>\n",
              "    <tr>\n",
              "      <th>3</th>\n",
              "      <td>Spline Regression</td>\n",
              "      <td>4.292132e+05</td>\n",
              "    </tr>\n",
              "    <tr>\n",
              "      <th>4</th>\n",
              "      <td>K-Nearest Neighbour Regression</td>\n",
              "      <td>4.567742e+05</td>\n",
              "    </tr>\n",
              "    <tr>\n",
              "      <th>5</th>\n",
              "      <td>Polynomial Regression</td>\n",
              "      <td>4.766961e+05</td>\n",
              "    </tr>\n",
              "    <tr>\n",
              "      <th>6</th>\n",
              "      <td>Linear Regression</td>\n",
              "      <td>5.242372e+05</td>\n",
              "    </tr>\n",
              "    <tr>\n",
              "      <th>7</th>\n",
              "      <td>Lasso Regression</td>\n",
              "      <td>5.242373e+05</td>\n",
              "    </tr>\n",
              "    <tr>\n",
              "      <th>8</th>\n",
              "      <td>Ridge Regression</td>\n",
              "      <td>5.242382e+05</td>\n",
              "    </tr>\n",
              "    <tr>\n",
              "      <th>9</th>\n",
              "      <td>Elastic Net Regression</td>\n",
              "      <td>5.313859e+05</td>\n",
              "    </tr>\n",
              "    <tr>\n",
              "      <th>10</th>\n",
              "      <td>Support  Vector Regression</td>\n",
              "      <td>5.722277e+05</td>\n",
              "    </tr>\n",
              "    <tr>\n",
              "      <th>11</th>\n",
              "      <td>Neural Network Regression</td>\n",
              "      <td>1.170559e+06</td>\n",
              "    </tr>\n",
              "  </tbody>\n",
              "</table>\n",
              "</div>\n",
              "      <button class=\"colab-df-convert\" onclick=\"convertToInteractive('df-c06e5d9f-09f2-4fae-8158-9f04af7c9827')\"\n",
              "              title=\"Convert this dataframe to an interactive table.\"\n",
              "              style=\"display:none;\">\n",
              "        \n",
              "  <svg xmlns=\"http://www.w3.org/2000/svg\" height=\"24px\"viewBox=\"0 0 24 24\"\n",
              "       width=\"24px\">\n",
              "    <path d=\"M0 0h24v24H0V0z\" fill=\"none\"/>\n",
              "    <path d=\"M18.56 5.44l.94 2.06.94-2.06 2.06-.94-2.06-.94-.94-2.06-.94 2.06-2.06.94zm-11 1L8.5 8.5l.94-2.06 2.06-.94-2.06-.94L8.5 2.5l-.94 2.06-2.06.94zm10 10l.94 2.06.94-2.06 2.06-.94-2.06-.94-.94-2.06-.94 2.06-2.06.94z\"/><path d=\"M17.41 7.96l-1.37-1.37c-.4-.4-.92-.59-1.43-.59-.52 0-1.04.2-1.43.59L10.3 9.45l-7.72 7.72c-.78.78-.78 2.05 0 2.83L4 21.41c.39.39.9.59 1.41.59.51 0 1.02-.2 1.41-.59l7.78-7.78 2.81-2.81c.8-.78.8-2.07 0-2.86zM5.41 20L4 18.59l7.72-7.72 1.47 1.35L5.41 20z\"/>\n",
              "  </svg>\n",
              "      </button>\n",
              "      \n",
              "  <style>\n",
              "    .colab-df-container {\n",
              "      display:flex;\n",
              "      flex-wrap:wrap;\n",
              "      gap: 12px;\n",
              "    }\n",
              "\n",
              "    .colab-df-convert {\n",
              "      background-color: #E8F0FE;\n",
              "      border: none;\n",
              "      border-radius: 50%;\n",
              "      cursor: pointer;\n",
              "      display: none;\n",
              "      fill: #1967D2;\n",
              "      height: 32px;\n",
              "      padding: 0 0 0 0;\n",
              "      width: 32px;\n",
              "    }\n",
              "\n",
              "    .colab-df-convert:hover {\n",
              "      background-color: #E2EBFA;\n",
              "      box-shadow: 0px 1px 2px rgba(60, 64, 67, 0.3), 0px 1px 3px 1px rgba(60, 64, 67, 0.15);\n",
              "      fill: #174EA6;\n",
              "    }\n",
              "\n",
              "    [theme=dark] .colab-df-convert {\n",
              "      background-color: #3B4455;\n",
              "      fill: #D2E3FC;\n",
              "    }\n",
              "\n",
              "    [theme=dark] .colab-df-convert:hover {\n",
              "      background-color: #434B5C;\n",
              "      box-shadow: 0px 1px 3px 1px rgba(0, 0, 0, 0.15);\n",
              "      filter: drop-shadow(0px 1px 2px rgba(0, 0, 0, 0.3));\n",
              "      fill: #FFFFFF;\n",
              "    }\n",
              "  </style>\n",
              "\n",
              "      <script>\n",
              "        const buttonEl =\n",
              "          document.querySelector('#df-c06e5d9f-09f2-4fae-8158-9f04af7c9827 button.colab-df-convert');\n",
              "        buttonEl.style.display =\n",
              "          google.colab.kernel.accessAllowed ? 'block' : 'none';\n",
              "\n",
              "        async function convertToInteractive(key) {\n",
              "          const element = document.querySelector('#df-c06e5d9f-09f2-4fae-8158-9f04af7c9827');\n",
              "          const dataTable =\n",
              "            await google.colab.kernel.invokeFunction('convertToInteractive',\n",
              "                                                     [key], {});\n",
              "          if (!dataTable) return;\n",
              "\n",
              "          const docLinkHtml = 'Like what you see? Visit the ' +\n",
              "            '<a target=\"_blank\" href=https://colab.research.google.com/notebooks/data_table.ipynb>data table notebook</a>'\n",
              "            + ' to learn more about interactive tables.';\n",
              "          element.innerHTML = '';\n",
              "          dataTable['output_type'] = 'display_data';\n",
              "          await google.colab.output.renderOutput(dataTable, element);\n",
              "          const docLink = document.createElement('div');\n",
              "          docLink.innerHTML = docLinkHtml;\n",
              "          element.appendChild(docLink);\n",
              "        }\n",
              "      </script>\n",
              "    </div>\n",
              "  </div>\n",
              "  "
            ]
          },
          "metadata": {},
          "execution_count": 46
        }
      ]
    },
    {
      "cell_type": "markdown",
      "source": [
        "**Result interpretation**"
      ],
      "metadata": {
        "id": "blP64ABlqNeY"
      }
    },
    {
      "cell_type": "markdown",
      "source": [
        "Let's interprete the result by evaluating the rmse value of the best model, the Random Forest Regressor."
      ],
      "metadata": {
        "id": "qyr-18Bwqden"
      }
    },
    {
      "cell_type": "code",
      "source": [
        "# evaluate rmse for the regressors\n",
        "rmse = evaluate_regressors_rmses(regressors, regressor_names, X_train, y_train, X_test, y_test)"
      ],
      "metadata": {
        "id": "tbhHdKAXb8Zq"
      },
      "execution_count": 47,
      "outputs": []
    },
    {
      "cell_type": "code",
      "source": [
        "# pick the best rmse\n",
        "best_rmse = rmse.iloc[0]['rmse']\n",
        "# compute the median of the weekly sales\n",
        "median_sale = sales['weekly_sales'].median()\n",
        "# compute percentage error\n",
        "percent_deviation = round((best_rmse*100/median_sale), 2)\n",
        "# print the result\n",
        "print('The model has average percentage error of {}%'.format(percent_deviation))"
      ],
      "metadata": {
        "colab": {
          "base_uri": "https://localhost:8080/"
        },
        "id": "rk9gKCszcCk2",
        "outputId": "60743fb1-dbb4-474f-8eac-8252bdc6466f"
      },
      "execution_count": 48,
      "outputs": [
        {
          "output_type": "stream",
          "name": "stdout",
          "text": [
            "The model has average percentage error of 11.69%\n"
          ]
        }
      ]
    },
    {
      "cell_type": "markdown",
      "source": [
        "The above table shows that Random Forest Regressor outperformed all the regressors with RMSE of 1.142e+05. This provide a good estimate for future sales as it has about 12% average error compared to the typical median sale."
      ],
      "metadata": {
        "id": "aAaM9J31qitN"
      }
    },
    {
      "cell_type": "markdown",
      "source": [
        "#5. Conclusions"
      ],
      "metadata": {
        "id": "Cut6QKQKrRR2"
      }
    },
    {
      "cell_type": "markdown",
      "source": [
        "Our analysis shows that sales during holiday weeks are significantly higher than during non-holiday weeks, with sales doubling on average. Additionally, there is a strong seasonal component to the sales data. The average\n",
        "sales of the top performing stores are up to 500% higher than the lowest performing stores. The best model for predicting future sales is the Random Forest Regressor model,which achieved an RMSE of 1.142e+05. This is a good \n",
        "estimate as it is 88% close to the median sale of the data.\n",
        "\n",
        "These findings have important implications for businesses as they can inform decisions about inventory, staffing, and marketing efforts. By understanding the factors that drive sales and using a reliable model to forecast future\n",
        "sales, businesses can better plan for the future and optimize their resources."
      ],
      "metadata": {
        "id": "AoB6-LYhrRNW"
      }
    },
    {
      "cell_type": "markdown",
      "source": [
        "**Future work**\n",
        "\n",
        "\n",
        "\n",
        "*   One area that future studies could explore is the relationship between festive sales and profit margins. By augmenting the dataset with expenses data, it would be possible to investigate whether larger festive sales always translate to larger profit margins. This can inform decisions about marketing and pricing strategies.\n",
        "*  The analysis showed a 500% difference in sales between the top performing and lowest performing stores, which is a significant difference. This suggests that there may be underlying factors contributing to the performance of these stores. To better understand the reasons behind the performance of these stores, it is necessary to gather additional data and parameters that may be influencing the sales of the top selling products. -Hyperparameter tuning involves adjusting the parameters of a model in order to improve its\n",
        "performance on a given dataset. By iteratively adjusting the parameters of the best model, it is possible to achieve an even better model.\n"
      ],
      "metadata": {
        "id": "N7kDE9zgrzT-"
      }
    }
  ]
}